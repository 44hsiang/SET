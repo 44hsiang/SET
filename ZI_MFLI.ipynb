{
 "cells": [
  {
   "cell_type": "code",
   "execution_count": 1,
   "id": "585a936a",
   "metadata": {},
   "outputs": [
    {
     "name": "stdout",
     "output_type": "stream",
     "text": [
      "Requirement already satisfied: qcodes in /opt/anaconda3/envs/qiskit_env_new/lib/python3.9/site-packages (0.45.0)\n",
      "Requirement already satisfied: zhinst-qcodes in /opt/anaconda3/envs/qiskit_env_new/lib/python3.9/site-packages (0.5.4)\n",
      "Requirement already satisfied: broadbean>=0.9.1 in /opt/anaconda3/envs/qiskit_env_new/lib/python3.9/site-packages (from qcodes) (0.14.0)\n",
      "Requirement already satisfied: h5netcdf!=0.14.0,>=0.10.0 in /opt/anaconda3/envs/qiskit_env_new/lib/python3.9/site-packages (from qcodes) (1.3.0)\n",
      "Requirement already satisfied: h5py>=3.0.0 in /opt/anaconda3/envs/qiskit_env_new/lib/python3.9/site-packages (from qcodes) (3.11.0)\n",
      "Requirement already satisfied: ipywidgets<9.0.0,>=8.0.0 in /opt/anaconda3/envs/qiskit_env_new/lib/python3.9/site-packages (from qcodes) (8.1.3)\n",
      "Requirement already satisfied: ipykernel>=6.6.0 in /opt/anaconda3/envs/qiskit_env_new/lib/python3.9/site-packages (from qcodes) (6.29.3)\n",
      "Requirement already satisfied: jsonschema>=4.9.0 in /opt/anaconda3/envs/qiskit_env_new/lib/python3.9/site-packages (from qcodes) (4.21.1)\n",
      "Requirement already satisfied: matplotlib>=3.3.3 in /opt/anaconda3/envs/qiskit_env_new/lib/python3.9/site-packages (from qcodes) (3.8.3)\n",
      "Requirement already satisfied: numpy>=1.21.0 in /opt/anaconda3/envs/qiskit_env_new/lib/python3.9/site-packages (from qcodes) (1.26.4)\n",
      "Requirement already satisfied: packaging>=20.0 in /opt/anaconda3/envs/qiskit_env_new/lib/python3.9/site-packages (from qcodes) (23.2)\n",
      "Requirement already satisfied: pandas>=1.2.0 in /opt/anaconda3/envs/qiskit_env_new/lib/python3.9/site-packages (from qcodes) (2.2.1)\n",
      "Requirement already satisfied: pyarrow>=11.0.0 in /opt/anaconda3/envs/qiskit_env_new/lib/python3.9/site-packages (from qcodes) (16.1.0)\n",
      "Requirement already satisfied: pyvisa<1.15.0,>=1.11.0 in /opt/anaconda3/envs/qiskit_env_new/lib/python3.9/site-packages (from qcodes) (1.14.1)\n",
      "Requirement already satisfied: ruamel.yaml!=0.16.6,>=0.16.0 in /opt/anaconda3/envs/qiskit_env_new/lib/python3.9/site-packages (from qcodes) (0.18.6)\n",
      "Requirement already satisfied: tabulate>=0.8.0 in /opt/anaconda3/envs/qiskit_env_new/lib/python3.9/site-packages (from qcodes) (0.9.0)\n",
      "Requirement already satisfied: typing-extensions>=4.5.0 in /opt/anaconda3/envs/qiskit_env_new/lib/python3.9/site-packages (from qcodes) (4.10.0)\n",
      "Requirement already satisfied: tqdm>=4.59.0 in /opt/anaconda3/envs/qiskit_env_new/lib/python3.9/site-packages (from qcodes) (4.66.2)\n",
      "Requirement already satisfied: uncertainties>=3.1.4 in /opt/anaconda3/envs/qiskit_env_new/lib/python3.9/site-packages (from qcodes) (3.1.7)\n",
      "Requirement already satisfied: versioningit>=2.2.1 in /opt/anaconda3/envs/qiskit_env_new/lib/python3.9/site-packages (from qcodes) (3.1.1)\n",
      "Requirement already satisfied: websockets>=9.1 in /opt/anaconda3/envs/qiskit_env_new/lib/python3.9/site-packages (from qcodes) (12.0)\n",
      "Requirement already satisfied: xarray>=2022.06.0 in /opt/anaconda3/envs/qiskit_env_new/lib/python3.9/site-packages (from qcodes) (2024.5.0)\n",
      "Requirement already satisfied: cf-xarray>=0.8.4 in /opt/anaconda3/envs/qiskit_env_new/lib/python3.9/site-packages (from qcodes) (0.9.1)\n",
      "Requirement already satisfied: opentelemetry-api>=1.15.0 in /opt/anaconda3/envs/qiskit_env_new/lib/python3.9/site-packages (from qcodes) (1.25.0)\n",
      "Requirement already satisfied: dask>=2022.1.0 in /opt/anaconda3/envs/qiskit_env_new/lib/python3.9/site-packages (from qcodes) (2024.5.2)\n",
      "Requirement already satisfied: tornado>=6.3.3 in /opt/anaconda3/envs/qiskit_env_new/lib/python3.9/site-packages (from qcodes) (6.4)\n",
      "Requirement already satisfied: ipython>=8.10.0 in /opt/anaconda3/envs/qiskit_env_new/lib/python3.9/site-packages (from qcodes) (8.18.1)\n",
      "Requirement already satisfied: pillow>=9.0.0 in /opt/anaconda3/envs/qiskit_env_new/lib/python3.9/site-packages (from qcodes) (10.2.0)\n",
      "Requirement already satisfied: importlib-metadata>=4.4 in /opt/anaconda3/envs/qiskit_env_new/lib/python3.9/site-packages (from qcodes) (7.0.2)\n",
      "Requirement already satisfied: wrapt>=1.13.2 in /opt/anaconda3/envs/qiskit_env_new/lib/python3.9/site-packages (from qcodes) (1.16.0)\n",
      "Requirement already satisfied: zhinst-toolkit>=0.5.2 in /opt/anaconda3/envs/qiskit_env_new/lib/python3.9/site-packages (from zhinst-qcodes) (1.0.1)\n",
      "Requirement already satisfied: schema in /opt/anaconda3/envs/qiskit_env_new/lib/python3.9/site-packages (from broadbean>=0.9.1->qcodes) (0.7.7)\n",
      "Requirement already satisfied: click>=8.1 in /opt/anaconda3/envs/qiskit_env_new/lib/python3.9/site-packages (from dask>=2022.1.0->qcodes) (8.1.7)\n",
      "Requirement already satisfied: cloudpickle>=1.5.0 in /opt/anaconda3/envs/qiskit_env_new/lib/python3.9/site-packages (from dask>=2022.1.0->qcodes) (3.0.0)\n",
      "Requirement already satisfied: fsspec>=2021.09.0 in /opt/anaconda3/envs/qiskit_env_new/lib/python3.9/site-packages (from dask>=2022.1.0->qcodes) (2024.6.0)\n",
      "Requirement already satisfied: partd>=1.2.0 in /opt/anaconda3/envs/qiskit_env_new/lib/python3.9/site-packages (from dask>=2022.1.0->qcodes) (1.4.2)\n",
      "Requirement already satisfied: pyyaml>=5.3.1 in /opt/anaconda3/envs/qiskit_env_new/lib/python3.9/site-packages (from dask>=2022.1.0->qcodes) (6.0.1)\n",
      "Requirement already satisfied: toolz>=0.10.0 in /opt/anaconda3/envs/qiskit_env_new/lib/python3.9/site-packages (from dask>=2022.1.0->qcodes) (0.12.1)\n",
      "Requirement already satisfied: zipp>=0.5 in /opt/anaconda3/envs/qiskit_env_new/lib/python3.9/site-packages (from importlib-metadata>=4.4->qcodes) (3.17.0)\n",
      "Requirement already satisfied: appnope in /opt/anaconda3/envs/qiskit_env_new/lib/python3.9/site-packages (from ipykernel>=6.6.0->qcodes) (0.1.4)\n",
      "Requirement already satisfied: comm>=0.1.1 in /opt/anaconda3/envs/qiskit_env_new/lib/python3.9/site-packages (from ipykernel>=6.6.0->qcodes) (0.2.1)\n",
      "Requirement already satisfied: debugpy>=1.6.5 in /opt/anaconda3/envs/qiskit_env_new/lib/python3.9/site-packages (from ipykernel>=6.6.0->qcodes) (1.8.1)\n",
      "Requirement already satisfied: jupyter-client>=6.1.12 in /opt/anaconda3/envs/qiskit_env_new/lib/python3.9/site-packages (from ipykernel>=6.6.0->qcodes) (8.6.0)\n",
      "Requirement already satisfied: jupyter-core!=5.0.*,>=4.12 in /opt/anaconda3/envs/qiskit_env_new/lib/python3.9/site-packages (from ipykernel>=6.6.0->qcodes) (5.7.1)\n",
      "Requirement already satisfied: matplotlib-inline>=0.1 in /opt/anaconda3/envs/qiskit_env_new/lib/python3.9/site-packages (from ipykernel>=6.6.0->qcodes) (0.1.6)\n",
      "Requirement already satisfied: nest-asyncio in /opt/anaconda3/envs/qiskit_env_new/lib/python3.9/site-packages (from ipykernel>=6.6.0->qcodes) (1.6.0)\n",
      "Requirement already satisfied: psutil in /opt/anaconda3/envs/qiskit_env_new/lib/python3.9/site-packages (from ipykernel>=6.6.0->qcodes) (5.9.8)\n",
      "Requirement already satisfied: pyzmq>=24 in /opt/anaconda3/envs/qiskit_env_new/lib/python3.9/site-packages (from ipykernel>=6.6.0->qcodes) (25.1.2)\n",
      "Requirement already satisfied: traitlets>=5.4.0 in /opt/anaconda3/envs/qiskit_env_new/lib/python3.9/site-packages (from ipykernel>=6.6.0->qcodes) (5.14.1)\n",
      "Requirement already satisfied: decorator in /opt/anaconda3/envs/qiskit_env_new/lib/python3.9/site-packages (from ipython>=8.10.0->qcodes) (5.1.1)\n",
      "Requirement already satisfied: jedi>=0.16 in /opt/anaconda3/envs/qiskit_env_new/lib/python3.9/site-packages (from ipython>=8.10.0->qcodes) (0.19.1)\n",
      "Requirement already satisfied: prompt-toolkit<3.1.0,>=3.0.41 in /opt/anaconda3/envs/qiskit_env_new/lib/python3.9/site-packages (from ipython>=8.10.0->qcodes) (3.0.43)\n",
      "Requirement already satisfied: pygments>=2.4.0 in /opt/anaconda3/envs/qiskit_env_new/lib/python3.9/site-packages (from ipython>=8.10.0->qcodes) (2.17.2)\n",
      "Requirement already satisfied: stack-data in /opt/anaconda3/envs/qiskit_env_new/lib/python3.9/site-packages (from ipython>=8.10.0->qcodes) (0.6.3)\n",
      "Requirement already satisfied: exceptiongroup in /opt/anaconda3/envs/qiskit_env_new/lib/python3.9/site-packages (from ipython>=8.10.0->qcodes) (1.2.0)\n",
      "Requirement already satisfied: pexpect>4.3 in /opt/anaconda3/envs/qiskit_env_new/lib/python3.9/site-packages (from ipython>=8.10.0->qcodes) (4.9.0)\n",
      "Requirement already satisfied: widgetsnbextension~=4.0.11 in /opt/anaconda3/envs/qiskit_env_new/lib/python3.9/site-packages (from ipywidgets<9.0.0,>=8.0.0->qcodes) (4.0.11)\n",
      "Requirement already satisfied: jupyterlab-widgets~=3.0.11 in /opt/anaconda3/envs/qiskit_env_new/lib/python3.9/site-packages (from ipywidgets<9.0.0,>=8.0.0->qcodes) (3.0.11)\n",
      "Requirement already satisfied: attrs>=22.2.0 in /opt/anaconda3/envs/qiskit_env_new/lib/python3.9/site-packages (from jsonschema>=4.9.0->qcodes) (23.2.0)\n",
      "Requirement already satisfied: jsonschema-specifications>=2023.03.6 in /opt/anaconda3/envs/qiskit_env_new/lib/python3.9/site-packages (from jsonschema>=4.9.0->qcodes) (2023.12.1)\n",
      "Requirement already satisfied: referencing>=0.28.4 in /opt/anaconda3/envs/qiskit_env_new/lib/python3.9/site-packages (from jsonschema>=4.9.0->qcodes) (0.33.0)\n",
      "Requirement already satisfied: rpds-py>=0.7.1 in /opt/anaconda3/envs/qiskit_env_new/lib/python3.9/site-packages (from jsonschema>=4.9.0->qcodes) (0.18.0)\n",
      "Requirement already satisfied: contourpy>=1.0.1 in /opt/anaconda3/envs/qiskit_env_new/lib/python3.9/site-packages (from matplotlib>=3.3.3->qcodes) (1.2.0)\n",
      "Requirement already satisfied: cycler>=0.10 in /opt/anaconda3/envs/qiskit_env_new/lib/python3.9/site-packages (from matplotlib>=3.3.3->qcodes) (0.12.1)\n",
      "Requirement already satisfied: fonttools>=4.22.0 in /opt/anaconda3/envs/qiskit_env_new/lib/python3.9/site-packages (from matplotlib>=3.3.3->qcodes) (4.49.0)\n",
      "Requirement already satisfied: kiwisolver>=1.3.1 in /opt/anaconda3/envs/qiskit_env_new/lib/python3.9/site-packages (from matplotlib>=3.3.3->qcodes) (1.4.5)\n",
      "Requirement already satisfied: pyparsing>=2.3.1 in /opt/anaconda3/envs/qiskit_env_new/lib/python3.9/site-packages (from matplotlib>=3.3.3->qcodes) (3.1.2)\n",
      "Requirement already satisfied: python-dateutil>=2.7 in /opt/anaconda3/envs/qiskit_env_new/lib/python3.9/site-packages (from matplotlib>=3.3.3->qcodes) (2.9.0.post0)\n",
      "Requirement already satisfied: importlib-resources>=3.2.0 in /opt/anaconda3/envs/qiskit_env_new/lib/python3.9/site-packages (from matplotlib>=3.3.3->qcodes) (6.1.3)\n",
      "Requirement already satisfied: deprecated>=1.2.6 in /opt/anaconda3/envs/qiskit_env_new/lib/python3.9/site-packages (from opentelemetry-api>=1.15.0->qcodes) (1.2.14)\n",
      "Requirement already satisfied: pytz>=2020.1 in /opt/anaconda3/envs/qiskit_env_new/lib/python3.9/site-packages (from pandas>=1.2.0->qcodes) (2024.1)\n",
      "Requirement already satisfied: tzdata>=2022.7 in /opt/anaconda3/envs/qiskit_env_new/lib/python3.9/site-packages (from pandas>=1.2.0->qcodes) (2024.1)\n",
      "Requirement already satisfied: ruamel.yaml.clib>=0.2.7 in /opt/anaconda3/envs/qiskit_env_new/lib/python3.9/site-packages (from ruamel.yaml!=0.16.6,>=0.16.0->qcodes) (0.2.8)\n",
      "Requirement already satisfied: future in /opt/anaconda3/envs/qiskit_env_new/lib/python3.9/site-packages (from uncertainties>=3.1.4->qcodes) (1.0.0)\n",
      "Requirement already satisfied: tomli<3.0,>=1.2 in /opt/anaconda3/envs/qiskit_env_new/lib/python3.9/site-packages (from versioningit>=2.2.1->qcodes) (2.0.1)\n",
      "Requirement already satisfied: jsonref>=0.2 in /opt/anaconda3/envs/qiskit_env_new/lib/python3.9/site-packages (from zhinst-toolkit>=0.5.2->zhinst-qcodes) (1.1.0)\n",
      "Requirement already satisfied: pyelftools>=0.29 in /opt/anaconda3/envs/qiskit_env_new/lib/python3.9/site-packages (from zhinst-toolkit>=0.5.2->zhinst-qcodes) (0.32)\n",
      "Requirement already satisfied: zhinst-core>=25.04 in /opt/anaconda3/envs/qiskit_env_new/lib/python3.9/site-packages (from zhinst-toolkit>=0.5.2->zhinst-qcodes) (25.4.1.17)\n",
      "Requirement already satisfied: zhinst-utils>=0.4.0 in /opt/anaconda3/envs/qiskit_env_new/lib/python3.9/site-packages (from zhinst-toolkit>=0.5.2->zhinst-qcodes) (0.7.0)\n",
      "Requirement already satisfied: parso<0.9.0,>=0.8.3 in /opt/anaconda3/envs/qiskit_env_new/lib/python3.9/site-packages (from jedi>=0.16->ipython>=8.10.0->qcodes) (0.8.3)\n",
      "Requirement already satisfied: platformdirs>=2.5 in /opt/anaconda3/envs/qiskit_env_new/lib/python3.9/site-packages (from jupyter-core!=5.0.*,>=4.12->ipykernel>=6.6.0->qcodes) (4.2.0)\n",
      "Requirement already satisfied: locket in /opt/anaconda3/envs/qiskit_env_new/lib/python3.9/site-packages (from partd>=1.2.0->dask>=2022.1.0->qcodes) (1.0.0)\n",
      "Requirement already satisfied: ptyprocess>=0.5 in /opt/anaconda3/envs/qiskit_env_new/lib/python3.9/site-packages (from pexpect>4.3->ipython>=8.10.0->qcodes) (0.7.0)\n",
      "Requirement already satisfied: wcwidth in /opt/anaconda3/envs/qiskit_env_new/lib/python3.9/site-packages (from prompt-toolkit<3.1.0,>=3.0.41->ipython>=8.10.0->qcodes) (0.2.13)\n",
      "Requirement already satisfied: six>=1.5 in /opt/anaconda3/envs/qiskit_env_new/lib/python3.9/site-packages (from python-dateutil>=2.7->matplotlib>=3.3.3->qcodes) (1.16.0)\n",
      "Requirement already satisfied: zhinst-timing-models in /opt/anaconda3/envs/qiskit_env_new/lib/python3.9/site-packages (from zhinst-utils>=0.4.0->zhinst-toolkit>=0.5.2->zhinst-qcodes) (25.4.0)\n",
      "Requirement already satisfied: executing>=1.2.0 in /opt/anaconda3/envs/qiskit_env_new/lib/python3.9/site-packages (from stack-data->ipython>=8.10.0->qcodes) (2.0.1)\n",
      "Requirement already satisfied: asttokens>=2.1.0 in /opt/anaconda3/envs/qiskit_env_new/lib/python3.9/site-packages (from stack-data->ipython>=8.10.0->qcodes) (2.4.1)\n",
      "Requirement already satisfied: pure-eval in /opt/anaconda3/envs/qiskit_env_new/lib/python3.9/site-packages (from stack-data->ipython>=8.10.0->qcodes) (0.2.2)\n"
     ]
    }
   ],
   "source": [
    "!pip install qcodes zhinst-qcodes         "
   ]
  },
  {
   "cell_type": "code",
   "execution_count": 2,
   "id": "4c27a1e3",
   "metadata": {},
   "outputs": [],
   "source": [
    "from zhinst.qcodes import ZISession\n",
    "session = ZISession(\"192.168.0.220\")"
   ]
  },
  {
   "cell_type": "code",
   "execution_count": 3,
   "id": "2f9f6b02",
   "metadata": {},
   "outputs": [],
   "source": [
    "device = session.connect_device(\"DEV30577\")"
   ]
  },
  {
   "cell_type": "code",
   "execution_count": 4,
   "id": "df915ad3",
   "metadata": {},
   "outputs": [],
   "source": [
    "OUT_CHANNEL = 0\n",
    "OUT_MIXER_CHANNEL = 1 # UHFLI: 3, HF2LI: 6, MFLI: 1\n",
    "IN_CHANNEL = 0\n",
    "DEMOD_INDEX = 0\n",
    "OSC_INDEX = 0\n",
    "\n",
    "with device.set_transaction():\n",
    "    device.sigins[IN_CHANNEL].ac(0)\n",
    "    device.sigins[IN_CHANNEL].range(0.2)\n",
    "\n",
    "    device.demods[DEMOD_INDEX].enable(True)\n",
    "    device.demods[DEMOD_INDEX].rate(10e3)\n",
    "    device.demods[DEMOD_INDEX].adcselect(IN_CHANNEL)\n",
    "    device.demods[DEMOD_INDEX].order(4)\n",
    "    device.demods[DEMOD_INDEX].timeconstant(0.01)\n",
    "    device.demods[DEMOD_INDEX].oscselect(OSC_INDEX)\n",
    "    device.demods[DEMOD_INDEX].harmonic(1)\n",
    "\n",
    "    device.sigouts[OUT_CHANNEL].on(True)\n",
    "    device.sigouts[OUT_CHANNEL].enables[OUT_MIXER_CHANNEL].value(1)\n",
    "    device.sigouts[OUT_CHANNEL].range(1)"
   ]
  },
  {
   "cell_type": "code",
   "execution_count": 5,
   "id": "18196267",
   "metadata": {},
   "outputs": [],
   "source": [
    "LOOPCOUNT = 2\n",
    "\n",
    "sweeper = session.modules.sweeper\n",
    "sweeper.device(device)\n",
    "\n",
    "sweeper.gridnode(device.oscs[OSC_INDEX].freq)\n",
    "sweeper.start(1e3)\n",
    "sweeper.stop(100e3)\n",
    "sweeper.samplecount(100)\n",
    "sweeper.xmapping(1)\n",
    "sweeper.bandwidthcontrol(2)\n",
    "sweeper.bandwidthoverlap(0)\n",
    "sweeper.scan(0)\n",
    "sweeper.loopcount(LOOPCOUNT)\n",
    "sweeper.settling.time(0)\n",
    "sweeper.settling.inaccuracy(0.001)\n",
    "sweeper.averaging.tc(10)\n",
    "sweeper.averaging.sample(10)"
   ]
  },
  {
   "cell_type": "code",
   "execution_count": 6,
   "id": "e2b4b20c",
   "metadata": {},
   "outputs": [],
   "source": [
    "sample_node = device.demods[DEMOD_INDEX].sample\n",
    "sweeper.subscribe(sample_node)"
   ]
  },
  {
   "cell_type": "code",
   "execution_count": 7,
   "id": "334b2135",
   "metadata": {},
   "outputs": [
    {
     "data": {
      "text/plain": [
       "{0: _option_info(enum='mat', description='MATLAB'),\n",
       " 1: _option_info(enum='csv', description='CSV'),\n",
       " 2: _option_info(enum='zview', description='ZView (Impedance data only)'),\n",
       " 3: _option_info(enum='sxm', description='SXM (Image format)'),\n",
       " 4: _option_info(enum='hdf5', description='HDF5')}"
      ]
     },
     "execution_count": 7,
     "metadata": {},
     "output_type": "execute_result"
    }
   ],
   "source": [
    "sweeper.save.fileformat.node_info.options"
   ]
  },
  {
   "cell_type": "code",
   "execution_count": 8,
   "id": "533efa82",
   "metadata": {},
   "outputs": [],
   "source": [
    "sweeper.save.filename('sweep_with_save')\n",
    "sweeper.save.fileformat('hdf5')"
   ]
  },
  {
   "cell_type": "code",
   "execution_count": 9,
   "id": "260d8dce",
   "metadata": {},
   "outputs": [],
   "source": [
    "import logging\n",
    "import sys\n",
    "\n",
    "handler = logging.StreamHandler(sys.stdout)\n",
    "logging.getLogger(\"zhinst.toolkit\").setLevel(logging.INFO)\n",
    "logging.getLogger(\"zhinst.toolkit\").addHandler(handler)"
   ]
  },
  {
   "cell_type": "code",
   "execution_count": 10,
   "id": "e53c1333",
   "metadata": {},
   "outputs": [
    {
     "name": "stdout",
     "output_type": "stream",
     "text": [
      "Perform 2 sweeps\n",
      "Progress: 0.0%\n",
      "Progress: 5.0%\n",
      "Progress: 11.0%\n",
      "Progress: 19.0%\n",
      "Progress: 30.0%\n",
      "Progress: 44.0%\n",
      "Progress: 61.0%\n",
      "Progress: 81.0%\n",
      "Progress: 0.0%\n",
      "Progress: 6.0%\n",
      "Progress: 13.0%\n",
      "Progress: 22.0%\n",
      "Progress: 33.0%\n",
      "Progress: 48.0%\n",
      "Progress: 65.0%\n",
      "Progress: 86.0%\n",
      "Progress: 100.0%\n"
     ]
    }
   ],
   "source": [
    "sweeper.execute()\n",
    "print(f\"Perform {LOOPCOUNT} sweeps\")\n",
    "sweeper.wait_done(timeout=300)"
   ]
  },
  {
   "cell_type": "code",
   "execution_count": 11,
   "id": "25ea4092",
   "metadata": {},
   "outputs": [],
   "source": [
    "sweeper.save.save(True)\n",
    "# Wait until the save is complete. The saving is done asynchronously in the background\n",
    "# so we need to wait until it is complete. In the case of the sweeper it is important\n",
    "# to wait for completion before before performing the module read command. The sweeper has\n",
    "# a special fast read command which could otherwise be executed before the saving has\n",
    "# started.\n",
    "sweeper.save.save.wait_for_state_change(True, invert=True, timeout=5)"
   ]
  },
  {
   "cell_type": "code",
   "execution_count": 12,
   "id": "06914628",
   "metadata": {},
   "outputs": [],
   "source": [
    "sweeper.unsubscribe(sample_node)\n",
    "data = sweeper.read()"
   ]
  },
  {
   "cell_type": "code",
   "execution_count": 13,
   "id": "1ee5148a",
   "metadata": {},
   "outputs": [],
   "source": [
    "num_sweeps = len(data[sample_node])\n",
    "assert num_sweeps == LOOPCOUNT, (\n",
    "    f\"The sweeper returned an unexpected number of sweeps: \"\n",
    "    f\"{num_sweeps}. Expected: {LOOPCOUNT}.\"\n",
    ")"
   ]
  },
  {
   "cell_type": "code",
   "execution_count": 14,
   "id": "1cda1b58",
   "metadata": {},
   "outputs": [
    {
     "data": {
      "image/png": "[encoded data removed]",
      "text/plain": [
       "<Figure size 640x480 with 2 Axes>"
      ]
     },
     "metadata": {},
     "output_type": "display_data"
    }
   ],
   "source": [
    "import matplotlib.pyplot as plt\n",
    "import numpy as np\n",
    "\n",
    "node_samples = data[sample_node]\n",
    "\n",
    "_, (ax1, ax2) = plt.subplots(2, 1)\n",
    "for sample in node_samples:\n",
    "    frequency = sample[0][\"frequency\"]\n",
    "    demod_r = np.abs(sample[0][\"x\"] + 1j * sample[0][\"y\"])\n",
    "    phi = np.angle(sample[0][\"x\"] + 1j * sample[0][\"y\"])\n",
    "    ax1.plot(frequency, demod_r)\n",
    "    ax2.plot(frequency, phi)\n",
    "ax1.set_title(f\"Results of {len(node_samples)} sweeps.\")\n",
    "ax1.grid()\n",
    "ax1.set_ylabel(r\"Demodulator R ($V_\\mathrm{RMS}$)\")\n",
    "ax1.set_xscale(\"log\")\n",
    "ax2.autoscale()\n",
    "\n",
    "ax2.grid()\n",
    "ax2.set_xlabel(\"Frequency ($Hz$)\")\n",
    "ax2.set_ylabel(r\"Demodulator Phi (radians)\")\n",
    "ax2.set_xscale(\"log\")\n",
    "ax2.autoscale()\n",
    "\n",
    "plt.draw()\n",
    "plt.show()"
   ]
  },
  {
   "cell_type": "code",
   "execution_count": null,
   "id": "3e7ed016",
   "metadata": {},
   "outputs": [],
   "source": []
  },
  {
   "cell_type": "code",
   "execution_count": null,
   "id": "9c453302",
   "metadata": {},
   "outputs": [],
   "source": [
    "device.sigouts[0].amplitudes[1].value()"
   ]
  }
 ],
 "metadata": {
  "kernelspec": {
   "display_name": "qiskit_env_new",
   "language": "python",
   "name": "python3"
  },
  "language_info": {
   "codemirror_mode": {
    "name": "ipython",
    "version": 3
   },
   "file_extension": ".py",
   "mimetype": "text/x-python",
   "name": "python",
   "nbconvert_exporter": "python",
   "pygments_lexer": "ipython3",
   "version": "3.9.18"
  }
 },
 "nbformat": 4,
 "nbformat_minor": 5
}
