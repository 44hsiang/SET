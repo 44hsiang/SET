{
 "cells": [
  {
   "cell_type": "code",
   "execution_count": 72,
   "metadata": {},
   "outputs": [],
   "source": [
    "import pyvisa as visa"
   ]
  },
  {
   "cell_type": "code",
   "execution_count": 1,
   "metadata": {},
   "outputs": [
    {
     "name": "stdout",
     "output_type": "stream",
     "text": [
      "Connected to: QDevil QDAC-II (serial:200, firmware:11-1.21) in 0.16s\n"
     ]
    }
   ],
   "source": [
    "from qcodes_contrib_drivers.drivers.QDevil import QDAC2\n",
    "from time import sleep\n",
    "qdac_addr = '192.168.0.198'\n",
    "qdac = QDAC2.QDac2('QDAC', visalib='@py', address=f'TCPIP::{qdac_addr}::5025::SOCKET')"
   ]
  },
  {
   "cell_type": "code",
   "execution_count": null,
   "metadata": {},
   "outputs": [],
   "source": []
  },
  {
   "cell_type": "markdown",
   "metadata": {},
   "source": [
    "# set DC"
   ]
  },
  {
   "cell_type": "code",
   "execution_count": 2,
   "metadata": {},
   "outputs": [
    {
     "data": {
      "text/plain": [
       "'0, \"No error\"'"
      ]
     },
     "execution_count": 2,
     "metadata": {},
     "output_type": "execute_result"
    }
   ],
   "source": [
    "#qdac.ch01.output_mode(range='low', filter='dc')\n",
    "#qdac.ch01.dc_constant_V(0)\n",
    "qdac.ch02.output_mode(range='low', filter='dc')\n",
    "qdac.ch02.dc_constant_V(0.1)\n",
    "qdac.errors()"
   ]
  },
  {
   "cell_type": "markdown",
   "metadata": {},
   "source": [
    "# set sine wave"
   ]
  },
  {
   "cell_type": "code",
   "execution_count": 3,
   "metadata": {},
   "outputs": [],
   "source": [
    "qdac.reset()\n",
    "sine = qdac.ch02.sine_wave()\n",
    "sine.start()"
   ]
  },
  {
   "cell_type": "markdown",
   "metadata": {},
   "source": [
    "# 1D sweep"
   ]
  },
  {
   "cell_type": "code",
   "execution_count": 9,
   "metadata": {},
   "outputs": [
    {
     "name": "stdout",
     "output_type": "stream",
     "text": [
      "11\n"
     ]
    }
   ],
   "source": [
    "with qdac.ch02.dc_sweep(\n",
    "    repetitions=2,\n",
    "    start_V=-1,\n",
    "    stop_V=1,\n",
    "    points=11,\n",
    "    dwell_s=10e-6\n",
    ") as my_list:\n",
    "    print(my_list.points())"
   ]
  },
  {
   "cell_type": "markdown",
   "metadata": {},
   "source": [
    "ch2 :1d sweep ch3: trigger"
   ]
  },
  {
   "cell_type": "code",
   "execution_count": 10,
   "metadata": {},
   "outputs": [],
   "source": [
    "qdac.reset()"
   ]
  },
  {
   "cell_type": "code",
   "execution_count": null,
   "metadata": {},
   "outputs": [
    {
     "data": {
      "text/plain": [
       "11"
      ]
     },
     "execution_count": 20,
     "metadata": {},
     "output_type": "execute_result"
    }
   ],
   "source": [
    "repeat = 100000\n",
    "dc_ch2 = qdac.ch02.dc_sweep(\n",
    "    repetitions=repeat,\n",
    "    stepped=True,\n",
    "    start_V=-1,\n",
    "    stop_V=1,\n",
    "    points=11,\n",
    "    dwell_s=100e-6,\n",
    ")\n",
    "square_ch3 = qdac.ch03.square_wave(frequency_Hz=10000, repetitions=repeat*11)\n",
    "qdac.start_all()"
   ]
  },
  {
   "cell_type": "markdown",
   "metadata": {},
   "source": [
    "ch2 1d sweep trig out1: tigger"
   ]
  },
  {
   "cell_type": "code",
   "execution_count": 23,
   "metadata": {},
   "outputs": [],
   "source": [
    "import numpy as np"
   ]
  },
  {
   "cell_type": "code",
   "execution_count": 28,
   "metadata": {},
   "outputs": [],
   "source": [
    "qdac.reset()\n",
    "\n",
    "# 2. 準備 DC sweep（例：-0.4 V → +0.4 V，共 101 點，dwell 200 µs）\n",
    "voltages = np.linspace(-0.4, 0.4, 101)\n",
    "dwell_s  = 100e-6                       # 200 µs ⇒ 5 kHz\n",
    "\n",
    "dc_ch2 = qdac.ch02.dc_sweep(\n",
    "    repetitions=repeat,\n",
    "    stepped=True,\n",
    "    start_V=-1,\n",
    "    stop_V=1,\n",
    "    points=11,\n",
    "    dwell_s=100e-6,\n",
    ")  # −1 = 連續 loop\n",
    "\n",
    "# 3. 取出「每一次 dwell 結束」的內部觸發\n",
    "step_trig = dc_ch2.step_end_marker()       # ➜ QDac2Trigger_Context 物件 :contentReference[oaicite:0]{index=0}\n",
    "\n",
    "# 4. 將內部觸發接到 Trigger OUT 1，寬度 = ½ 週期\n",
    "qdac.ext1.width_s(dwell_s / 2)                # 50 % duty\n",
    "qdac.ext1.polarity('norm')                    # 正邏輯：高電平為「1」\n",
    "qdac.ext1.source_from_trigger(step_trig)  \n",
    "qdac.ext1.delay_s(0.1*dwell_s)    # routing :contentReference[oaicite:1]{index=1}\n",
    "\n",
    "# 5. Arm 並啟動\n",
    "qdac.start_all()                              # List generator + 外部觸發同時就緒\n"
   ]
  },
  {
   "cell_type": "code",
   "execution_count": 25,
   "metadata": {},
   "outputs": [],
   "source": [
    "step_trig = dc_ch2.step_end_marker()       # ➜ QDac2Trigger_Context 物件 :contentReference[oaicite:0]{index=0}\n"
   ]
  },
  {
   "cell_type": "code",
   "execution_count": 12,
   "metadata": {},
   "outputs": [],
   "source": [
    "dc_sweep.start()"
   ]
  },
  {
   "cell_type": "code",
   "execution_count": 27,
   "metadata": {},
   "outputs": [
    {
     "name": "stdout",
     "output_type": "stream",
     "text": [
      "\u001b[0;31mType:\u001b[0m        QDac2ExternalTrigger\n",
      "\u001b[0;31mString form:\u001b[0m <QDac2ExternalTrigger: QDAC_ext1 of QDac2: QDAC>\n",
      "\u001b[0;31mFile:\u001b[0m        /opt/anaconda3/envs/qiskit_env_new/lib/python3.9/site-packages/qcodes_contrib_drivers/drivers/QDevil/QDAC2.py\n",
      "\u001b[0;31mDocstring:\u001b[0m  \n",
      "External output trigger\n",
      "\n",
      "There are three 5V isolated triggers on the front (1, 2, 3) and two\n",
      "non-isolated 3V3 on the back (4, 5)."
     ]
    }
   ],
   "source": [
    "qdac.ext1?"
   ]
  },
  {
   "cell_type": "code",
   "execution_count": null,
   "metadata": {},
   "outputs": [],
   "source": []
  }
 ],
 "metadata": {
  "kernelspec": {
   "display_name": "qiskit_env_new",
   "language": "python",
   "name": "python3"
  },
  "language_info": {
   "codemirror_mode": {
    "name": "ipython",
    "version": 3
   },
   "file_extension": ".py",
   "mimetype": "text/x-python",
   "name": "python",
   "nbconvert_exporter": "python",
   "pygments_lexer": "ipython3",
   "version": "3.9.18"
  }
 },
 "nbformat": 4,
 "nbformat_minor": 2
}
