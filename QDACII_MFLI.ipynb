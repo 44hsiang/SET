{
 "cells": [
  {
   "cell_type": "code",
   "execution_count": 1,
   "id": "a96321b7",
   "metadata": {},
   "outputs": [],
   "source": [
    "from qcodes_contrib_drivers.drivers.QDevil import QDAC2\n",
    "from zhinst.qcodes import ZISession\n",
    "from time import sleep\n",
    "import pyvisa as visa\n",
    "import numpy as np\n",
    "import matplotlib.pyplot as plt"
   ]
  },
  {
   "cell_type": "markdown",
   "id": "be24dacf",
   "metadata": {},
   "source": [
    "# instrument connection"
   ]
  },
  {
   "cell_type": "code",
   "execution_count": 2,
   "id": "fbae1936",
   "metadata": {},
   "outputs": [
    {
     "name": "stdout",
     "output_type": "stream",
     "text": [
      "Connected to: QDevil QDAC-II (serial:200, firmware:11-1.21) in 0.17s\n"
     ]
    }
   ],
   "source": [
    "# QDACII connection\n",
    "qdac_addr = '192.168.0.198'\n",
    "qdac = QDAC2.QDac2('QDAC', visalib='@py', address=f'TCPIP::{qdac_addr}::5025::SOCKET')"
   ]
  },
  {
   "cell_type": "code",
   "execution_count": 3,
   "id": "b3ef8840",
   "metadata": {},
   "outputs": [],
   "source": [
    "# ZI MFLI lockin connection\n",
    "mfli_addr = \"192.168.0.220\"\n",
    "DEVICE_ID = \"dev30577\"\n",
    "session = ZISession(mfli_addr)\n",
    "device = session.connect_device(DEVICE_ID)\n",
    "daq = session.modules.daq\n",
    "sweeper = session.modules.sweeper"
   ]
  },
  {
   "cell_type": "code",
   "execution_count": 4,
   "id": "30172242",
   "metadata": {},
   "outputs": [],
   "source": [
    "qdac.reset() # reset QDACII\n",
    "\n",
    "voltages = np.linspace(-0.4, 0.4, 101)\n",
    "dwell_s  = 200e-3                     \n",
    "repeat=1000\n",
    "\n",
    "dc_ch2 = qdac.ch02.dc_sweep(\n",
    "    repetitions=repeat,\n",
    "    stepped=True,\n",
    "    start_V=-1,\n",
    "    stop_V=1,\n",
    "    points=11,\n",
    "    dwell_s=dwell_s,\n",
    ")  \n",
    "\n",
    "step_trig = dc_ch2.step_end_marker()   \n",
    "\n",
    "qdac.ext1.width_s(dwell_s / 2)             \n",
    "qdac.ext1.polarity('norm')                    \n",
    "qdac.ext1.source_from_trigger(step_trig)  \n",
    "qdac.ext1.delay_s(0.1*dwell_s)  "
   ]
  },
  {
   "cell_type": "code",
   "execution_count": 5,
   "id": "d3c966e1",
   "metadata": {},
   "outputs": [],
   "source": [
    "qdac.start_all()  "
   ]
  },
  {
   "cell_type": "code",
   "execution_count": 6,
   "id": "d8e8e74f",
   "metadata": {},
   "outputs": [],
   "source": [
    "def basic_mfli_setup(mfli, V_exc, frequency):\n",
    "    OUT_CH   = 0  \n",
    "    OSC      = 0   \n",
    "    DEMOD    = 0  # demodulator 1 \n",
    "\n",
    "    with mfli.set_transaction():\n",
    "        # Output setup             \n",
    "        mfli.sigouts[OUT_CH].on(True)\n",
    "        mfli.sigouts[OUT_CH].enables[1].value(True)\n",
    "\n",
    "        # Set output amplitudes for both paths\n",
    "        mfli.sigouts[OUT_CH].amplitudes[1].value(V_exc)    \n",
    "        \n",
    "        # Set frequency of oscillator\n",
    "        mfli.oscs[OSC].freq(frequency)  # Set frequency\n",
    "        \n",
    "        # Input setup\n",
    "        mfli.sigins[0].range(0.1)  # This may need to be adjusted based on the input signal\n",
    "        mfli.demods[DEMOD].enable(True)\n",
    "        mfli.demods[DEMOD].oscselect(OSC)\n",
    "        mfli.demods[DEMOD].adcselect(0)\n",
    "        mfli.demods[DEMOD].order(4)\n",
    "        mfli.demods[DEMOD].timeconstant(0.01)\n",
    "\n",
    "    return mfli"
   ]
  },
  {
   "cell_type": "code",
   "execution_count": 7,
   "id": "a3bce4a4",
   "metadata": {},
   "outputs": [],
   "source": [
    "V_exc = 0.2\n",
    "frequency = 1e3  # Frequency in Hz\n",
    "OUT_CH   = 0  \n",
    "OSC      = 0   \n",
    "DEMOD    = 0  # demodulator 1 \n",
    "\n",
    "with device.set_transaction():\n",
    "    # Output setup             \n",
    "    device.sigouts[OUT_CH].on(True)\n",
    "    device.sigouts[OUT_CH].enables[1].value(True)\n",
    "\n",
    "    # Set output amplitudes for both paths\n",
    "    device.sigouts[OUT_CH].amplitudes[1].value(V_exc)    \n",
    "    # Set frequency of oscillator\n",
    "    device.oscs[OSC].freq(frequency) \n",
    "    \n",
    "    # Input setup\n",
    "    device.sigins[0].range(0.1)  # This may need to be adjusted based on the input signal\n",
    "    device.demods[DEMOD].enable(True)\n",
    "    device.demods[DEMOD].oscselect(OSC)\n",
    "    device.demods[DEMOD].adcselect(0)\n",
    "    device.demods[DEMOD].order(4)\n",
    "    device.demods[DEMOD].timeconstant(0.01)\n",
    "    device.demods[DEMOD].trigger(0) # 0: continuous, 1: rise 2: fall\n"
   ]
  },
  {
   "cell_type": "code",
   "execution_count": 8,
   "id": "869fd580",
   "metadata": {},
   "outputs": [
    {
     "data": {
      "text/plain": [
       "{'timestamp': array([19540185365], dtype=uint64),\n",
       " 'x': array([0.00143849]),\n",
       " 'y': array([-4.40051534e-05]),\n",
       " 'frequency': array([1000.00000003]),\n",
       " 'phase': array([3.32097253]),\n",
       " 'dio': array([0], dtype=uint32),\n",
       " 'trigger': array([0], dtype=uint32),\n",
       " 'auxin0': array([0.00066147]),\n",
       " 'auxin1': array([-0.00132308])}"
      ]
     },
     "execution_count": 8,
     "metadata": {},
     "output_type": "execute_result"
    }
   ],
   "source": [
    "device.demods[0].sample()"
   ]
  },
  {
   "cell_type": "markdown",
   "id": "f4d6c5d0",
   "metadata": {},
   "source": [
    "## continous record\n",
    "https://github.com/zhinst/labone-api-examples/blob/release-25.04/hf2-mf-uhf/python/example_data_acquisition_continuous.md"
   ]
  },
  {
   "cell_type": "code",
   "execution_count": 9,
   "id": "01daca20",
   "metadata": {},
   "outputs": [],
   "source": [
    "daq.device(device)"
   ]
  },
  {
   "cell_type": "code",
   "execution_count": 10,
   "id": "a68ed8ac",
   "metadata": {},
   "outputs": [],
   "source": [
    "demod_path = f\"/{DEVICE_ID}/demods/0/sample\"\n",
    "signal_paths = []\n",
    "signal_paths.append(demod_path + \".x\")  # The demodulator X output.\n",
    "signal_paths.append(demod_path + \".y\")  # The demodulator Y output."
   ]
  },
  {
   "cell_type": "code",
   "execution_count": 11,
   "id": "5bf42ea9",
   "metadata": {},
   "outputs": [],
   "source": [
    "total_duration = 5 # Time in seconds for the aquisition.\n",
    "module_sampling_rate = 30000  # Number of points/second.\n",
    "burst_duration = 0.2  # Time in seconds for each data burst/segment.\n",
    "num_cols = int(np.ceil(module_sampling_rate * burst_duration))\n",
    "num_rows = int(3)\n",
    "num_bursts = int(np.ceil(total_duration / burst_duration))"
   ]
  },
  {
   "cell_type": "code",
   "execution_count": 12,
   "id": "34f04731",
   "metadata": {},
   "outputs": [],
   "source": [
    "device.demods[DEMOD].enable(True)\n",
    "daq.type(\"continuous\")\n",
    "daq.grid.mode('linear')\n",
    "daq.count(num_bursts)\n",
    "daq.duration(burst_duration)\n",
    "daq.grid.cols(num_cols)\n",
    "#daq.grid.rows(num_rows)"
   ]
  },
  {
   "cell_type": "code",
   "execution_count": 13,
   "id": "f32d1270",
   "metadata": {},
   "outputs": [
    {
     "name": "stdout",
     "output_type": "stream",
     "text": [
      "Subscribing to  /dev30577/demods/0/sample.x\n",
      "Subscribing to  /dev30577/demods/0/sample.y\n"
     ]
    }
   ],
   "source": [
    "data = {}\n",
    "for signal_path in signal_paths:\n",
    "    print(\"Subscribing to \", signal_path)\n",
    "    daq.subscribe(signal_path)\n",
    "    data[signal_path] = []"
   ]
  },
  {
   "cell_type": "code",
   "execution_count": 14,
   "id": "3f8e363d",
   "metadata": {},
   "outputs": [
    {
     "name": "stdout",
     "output_type": "stream",
     "text": [
      "Clockbase:  60000000.0\n"
     ]
    }
   ],
   "source": [
    "clockbase = device.clockbase()\n",
    "print(\"Clockbase: \", clockbase)"
   ]
  },
  {
   "cell_type": "code",
   "execution_count": 15,
   "id": "d7bf8164",
   "metadata": {},
   "outputs": [],
   "source": [
    "#filename = \"Example_Data_Acquisition_Continous\"\n",
    "#daq.save.filename(filename)\n",
    "#daq.save.fileformat(\"hdf5\")  \n"
   ]
  },
  {
   "cell_type": "code",
   "execution_count": 16,
   "id": "aa1a430f",
   "metadata": {},
   "outputs": [
    {
     "name": "stdout",
     "output_type": "stream",
     "text": [
      "{'/awgcontrol': array([0], dtype=int64), '/bandwidth': array([0.]), '/bitmask': array([1], dtype=int64), '/bits': array([1], dtype=int64), '/buffercount': array([3], dtype=int64), '/buffersize': array([0.2]), '/clearhistory': array([0], dtype=int64), '/count': array([25], dtype=int64), '/delay': array([-0.001]), '/device': ['dev30577'], '/duration': array([0.2]), '/edge': array([1], dtype=int64), '/enable': array([1], dtype=int64), '/endless': array([0], dtype=int64), '/eventcount/mode': array([1], dtype=int64), '/fft/absolute': array([0], dtype=int64), '/fft/powercompensation': array([0], dtype=int64), '/fft/window': array([1], dtype=int64), '/findlevel': array([0], dtype=int64), '/flags': array([8], dtype=int64), '/forcetrigger': array([0], dtype=int64), '/grid/cols': array([6000], dtype=int64), '/grid/direction': array([0], dtype=int64), '/grid/mode': array([2], dtype=int64), '/grid/overwrite': array([0], dtype=int64), '/grid/repetitions': array([1], dtype=int64), '/grid/rowrepetition': array([0], dtype=int64), '/grid/rows': array([1], dtype=int64), '/grid/waterfall': array([0], dtype=int64), '/historylength': array([100000], dtype=int64), '/holdoff/count': array([0], dtype=int64), '/holdoff/time': array([0.2]), '/hysteresis': array([0.]), '/level': array([0.]), '/preview': array([0], dtype=int64), '/pulse/max': array([0.001]), '/pulse/min': array([0.]), '/refreshrate': array([5.]), '/save/csvlocale': ['C'], '/save/csvseparator': [';'], '/save/directory': ['/Users/4hsiang/Zurich Instruments/LabOne/WebServer'], '/save/fileformat': array([0], dtype=int64), '/save/filename': ['dataAcquisitionModule'], '/save/save': array([0], dtype=int64), '/save/saveonread': array([0], dtype=int64), '/spectrum/autobandwidth': array([0], dtype=int64), '/spectrum/enable': array([0], dtype=int64), '/spectrum/frequencyspan': array([13000.]), '/spectrum/overlapped': array([1], dtype=int64), '/triggered': array([0], dtype=int64), '/triggernode': [''], '/type': array([0], dtype=int64)}\n",
      "{}\n",
      "{'/triggered': array([1], dtype=int64)}\n",
      "{}\n",
      "{}\n",
      "{'/dev30577/demods/0/sample.x': [DAQResult(header={'systemtime': array([1751710689], dtype=uint64), 'createdtimestamp': array([23300278965], dtype=uint64), 'changedtimestamp': array([23300278965], dtype=uint64), 'flags': array([825], dtype=uint32), 'moduleflags': array([0], dtype=uint32), 'chunksizebytes': array([0], dtype=uint64), 'name': '000 18:18:09.9874', 'status': array([0], dtype=uint32), 'groupindex': array([0], dtype=uint32), 'color': array([0], dtype=uint32), 'activerow': array([0], dtype=uint32), 'triggernumber': array([0], dtype=uint64), 'gridrows': array([1], dtype=uint32), 'gridcols': array([6000], dtype=uint32), 'gridmode': array([2], dtype=uint32), 'gridoperation': array([1], dtype=uint32), 'griddirection': array([0], dtype=uint32), 'gridrepetitions': array([1], dtype=uint32), 'gridcoldelta': array([3.33333333e-05]), 'gridcoloffset': array([-0.001]), 'gridrowdelta': array([1.]), 'gridrowoffset': array([0.]), 'bandwidth': array([nan]), 'center': array([0.]), 'nenbw': array([nan])}, value=array([[0.0014385, 0.0014385, 0.0014385, ..., 0.0014385, 0.0014385,\n",
      "        0.0014385]], shape=(1, 6000)), time=array([0.00000000e+00, 3.33333333e-05, 6.66666667e-05, ...,\n",
      "       1.99900000e-01, 1.99933333e-01, 1.99966667e-01], shape=(6000,)), frequency=None, shape=(1, 6000))], '/dev30577/demods/0/sample.y': [DAQResult(header={'systemtime': array([1751710689], dtype=uint64), 'createdtimestamp': array([23300278965], dtype=uint64), 'changedtimestamp': array([23300278965], dtype=uint64), 'flags': array([825], dtype=uint32), 'moduleflags': array([0], dtype=uint32), 'chunksizebytes': array([0], dtype=uint64), 'name': '000 18:18:09.9874', 'status': array([0], dtype=uint32), 'groupindex': array([0], dtype=uint32), 'color': array([0], dtype=uint32), 'activerow': array([0], dtype=uint32), 'triggernumber': array([0], dtype=uint64), 'gridrows': array([1], dtype=uint32), 'gridcols': array([6000], dtype=uint32), 'gridmode': array([2], dtype=uint32), 'gridoperation': array([1], dtype=uint32), 'griddirection': array([0], dtype=uint32), 'gridrepetitions': array([1], dtype=uint32), 'gridcoldelta': array([3.33333333e-05]), 'gridcoloffset': array([-0.001]), 'gridrowdelta': array([1.]), 'gridrowoffset': array([0.]), 'bandwidth': array([nan]), 'center': array([0.]), 'nenbw': array([nan])}, value=array([[-4.38724105e-05, -4.38734221e-05, -4.38744337e-05, ...,\n",
      "        -4.41585740e-05, -4.41600806e-05, -4.41615738e-05]],\n",
      "      shape=(1, 6000)), time=array([0.00000000e+00, 3.33333333e-05, 6.66666667e-05, ...,\n",
      "       1.99900000e-01, 1.99933333e-01, 1.99966667e-01], shape=(6000,)), frequency=None, shape=(1, 6000))]}\n",
      "{'/dev30577/demods/0/sample.x': [DAQResult(header={'systemtime': array([1751710690], dtype=uint64), 'createdtimestamp': array([23312285365], dtype=uint64), 'changedtimestamp': array([23312285365], dtype=uint64), 'flags': array([825], dtype=uint32), 'moduleflags': array([0], dtype=uint32), 'chunksizebytes': array([0], dtype=uint64), 'name': '001 18:18:10.1913', 'status': array([0], dtype=uint32), 'groupindex': array([0], dtype=uint32), 'color': array([0], dtype=uint32), 'activerow': array([0], dtype=uint32), 'triggernumber': array([1], dtype=uint64), 'gridrows': array([1], dtype=uint32), 'gridcols': array([6000], dtype=uint32), 'gridmode': array([2], dtype=uint32), 'gridoperation': array([1], dtype=uint32), 'griddirection': array([0], dtype=uint32), 'gridrepetitions': array([1], dtype=uint32), 'gridcoldelta': array([3.33333333e-05]), 'gridcoloffset': array([-0.001]), 'gridrowdelta': array([1.]), 'gridrowoffset': array([0.]), 'bandwidth': array([nan]), 'center': array([0.]), 'nenbw': array([nan])}, value=array([[0.0014385 , 0.0014385 , 0.00143851, ..., 0.00143864, 0.00143864,\n",
      "        0.00143865]], shape=(1, 6000)), time=array([0.00000000e+00, 3.33333333e-05, 6.66666667e-05, ...,\n",
      "       1.99900000e-01, 1.99933333e-01, 1.99966667e-01], shape=(6000,)), frequency=None, shape=(1, 6000))], '/dev30577/demods/0/sample.y': [DAQResult(header={'systemtime': array([1751710690], dtype=uint64), 'createdtimestamp': array([23312285365], dtype=uint64), 'changedtimestamp': array([23312285365], dtype=uint64), 'flags': array([825], dtype=uint32), 'moduleflags': array([0], dtype=uint32), 'chunksizebytes': array([0], dtype=uint64), 'name': '001 18:18:10.1913', 'status': array([0], dtype=uint32), 'groupindex': array([0], dtype=uint32), 'color': array([0], dtype=uint32), 'activerow': array([0], dtype=uint32), 'triggernumber': array([1], dtype=uint64), 'gridrows': array([1], dtype=uint32), 'gridcols': array([6000], dtype=uint32), 'gridmode': array([2], dtype=uint32), 'gridoperation': array([1], dtype=uint32), 'griddirection': array([0], dtype=uint32), 'gridrepetitions': array([1], dtype=uint32), 'gridcoldelta': array([3.33333333e-05]), 'gridcoloffset': array([-0.001]), 'gridrowdelta': array([1.]), 'gridrowoffset': array([0.]), 'bandwidth': array([nan]), 'center': array([0.]), 'nenbw': array([nan])}, value=array([[-4.41678453e-05, -4.41693385e-05, -4.41708317e-05, ...,\n",
      "        -4.40717187e-05, -4.40736482e-05, -4.40755695e-05]],\n",
      "      shape=(1, 6000)), time=array([0.00000000e+00, 3.33333333e-05, 6.66666667e-05, ...,\n",
      "       1.99900000e-01, 1.99933333e-01, 1.99966667e-01], shape=(6000,)), frequency=None, shape=(1, 6000))]}\n",
      "{'/dev30577/demods/0/sample.x': [DAQResult(header={'systemtime': array([1751710690], dtype=uint64), 'createdtimestamp': array([23324291765], dtype=uint64), 'changedtimestamp': array([23324291765], dtype=uint64), 'flags': array([825], dtype=uint32), 'moduleflags': array([0], dtype=uint32), 'chunksizebytes': array([0], dtype=uint64), 'name': '002 18:18:10.3922', 'status': array([0], dtype=uint32), 'groupindex': array([0], dtype=uint32), 'color': array([0], dtype=uint32), 'activerow': array([0], dtype=uint32), 'triggernumber': array([2], dtype=uint64), 'gridrows': array([1], dtype=uint32), 'gridcols': array([6000], dtype=uint32), 'gridmode': array([2], dtype=uint32), 'gridoperation': array([1], dtype=uint32), 'griddirection': array([0], dtype=uint32), 'gridrepetitions': array([1], dtype=uint32), 'gridcoldelta': array([3.33333333e-05]), 'gridcoloffset': array([-0.001]), 'gridrowdelta': array([1.]), 'gridrowoffset': array([0.]), 'bandwidth': array([nan]), 'center': array([0.]), 'nenbw': array([nan])}, value=array([[0.00143865, 0.00143865, 0.00143865, ..., 0.00143854, 0.00143854,\n",
      "        0.00143854]], shape=(1, 6000)), time=array([0.00000000e+00, 3.33333333e-05, 6.66666667e-05, ...,\n",
      "       1.99900000e-01, 1.99933333e-01, 1.99966667e-01], shape=(6000,)), frequency=None, shape=(1, 6000))], '/dev30577/demods/0/sample.y': [DAQResult(header={'systemtime': array([1751710690], dtype=uint64), 'createdtimestamp': array([23324291765], dtype=uint64), 'changedtimestamp': array([23324291765], dtype=uint64), 'flags': array([825], dtype=uint32), 'moduleflags': array([0], dtype=uint32), 'chunksizebytes': array([0], dtype=uint64), 'name': '002 18:18:10.3922', 'status': array([0], dtype=uint32), 'groupindex': array([0], dtype=uint32), 'color': array([0], dtype=uint32), 'activerow': array([0], dtype=uint32), 'triggernumber': array([2], dtype=uint64), 'gridrows': array([1], dtype=uint32), 'gridcols': array([6000], dtype=uint32), 'gridmode': array([2], dtype=uint32), 'gridoperation': array([1], dtype=uint32), 'griddirection': array([0], dtype=uint32), 'gridrepetitions': array([1], dtype=uint32), 'gridcoldelta': array([3.33333333e-05]), 'gridcoloffset': array([-0.001]), 'gridrowdelta': array([1.]), 'gridrowoffset': array([0.]), 'bandwidth': array([nan]), 'center': array([0.]), 'nenbw': array([nan])}, value=array([[-4.40836387e-05, -4.40855599e-05, -4.40874812e-05, ...,\n",
      "        -4.36073149e-05, -4.36082217e-05, -4.36091407e-05]],\n",
      "      shape=(1, 6000)), time=array([0.00000000e+00, 3.33333333e-05, 6.66666667e-05, ...,\n",
      "       1.99900000e-01, 1.99933333e-01, 1.99966667e-01], shape=(6000,)), frequency=None, shape=(1, 6000))]}\n",
      "{'/dev30577/demods/0/sample.x': [DAQResult(header={'systemtime': array([1751710690], dtype=uint64), 'createdtimestamp': array([23336298165], dtype=uint64), 'changedtimestamp': array([23336298165], dtype=uint64), 'flags': array([825], dtype=uint32), 'moduleflags': array([0], dtype=uint32), 'chunksizebytes': array([0], dtype=uint64), 'name': '003 18:18:10.5952', 'status': array([0], dtype=uint32), 'groupindex': array([0], dtype=uint32), 'color': array([0], dtype=uint32), 'activerow': array([0], dtype=uint32), 'triggernumber': array([3], dtype=uint64), 'gridrows': array([1], dtype=uint32), 'gridcols': array([6000], dtype=uint32), 'gridmode': array([2], dtype=uint32), 'gridoperation': array([1], dtype=uint32), 'griddirection': array([0], dtype=uint32), 'gridrepetitions': array([1], dtype=uint32), 'gridcoldelta': array([3.33333333e-05]), 'gridcoloffset': array([-0.001]), 'gridrowdelta': array([1.]), 'gridrowoffset': array([0.]), 'bandwidth': array([nan]), 'center': array([0.]), 'nenbw': array([nan])}, value=array([[0.00143854, 0.00143854, 0.00143854, ..., 0.00143858, 0.00143858,\n",
      "        0.00143858]], shape=(1, 6000)), time=array([0.00000000e+00, 3.33333333e-05, 6.66666667e-05, ...,\n",
      "       1.99900000e-01, 1.99933333e-01, 1.99966667e-01], shape=(6000,)), frequency=None, shape=(1, 6000))], '/dev30577/demods/0/sample.y': [DAQResult(header={'systemtime': array([1751710690], dtype=uint64), 'createdtimestamp': array([23336298165], dtype=uint64), 'changedtimestamp': array([23336298165], dtype=uint64), 'flags': array([825], dtype=uint32), 'moduleflags': array([0], dtype=uint32), 'chunksizebytes': array([0], dtype=uint64), 'name': '003 18:18:10.5952', 'status': array([0], dtype=uint32), 'groupindex': array([0], dtype=uint32), 'color': array([0], dtype=uint32), 'activerow': array([0], dtype=uint32), 'triggernumber': array([3], dtype=uint64), 'gridrows': array([1], dtype=uint32), 'gridcols': array([6000], dtype=uint32), 'gridmode': array([2], dtype=uint32), 'gridoperation': array([1], dtype=uint32), 'griddirection': array([0], dtype=uint32), 'gridrepetitions': array([1], dtype=uint32), 'gridcoldelta': array([3.33333333e-05]), 'gridcoloffset': array([-0.001]), 'gridrowdelta': array([1.]), 'gridrowoffset': array([0.]), 'bandwidth': array([nan]), 'center': array([0.]), 'nenbw': array([nan])}, value=array([[-4.36130001e-05, -4.36139190e-05, -4.36148379e-05, ...,\n",
      "        -4.38166232e-05, -4.38181265e-05, -4.38196445e-05]],\n",
      "      shape=(1, 6000)), time=array([0.00000000e+00, 3.33333333e-05, 6.66666667e-05, ...,\n",
      "       1.99900000e-01, 1.99933333e-01, 1.99966667e-01], shape=(6000,)), frequency=None, shape=(1, 6000))]}\n",
      "{'/dev30577/demods/0/sample.x': [DAQResult(header={'systemtime': array([1751710690], dtype=uint64), 'createdtimestamp': array([23348304565], dtype=uint64), 'changedtimestamp': array([23348304565], dtype=uint64), 'flags': array([825], dtype=uint32), 'moduleflags': array([0], dtype=uint32), 'chunksizebytes': array([0], dtype=uint64), 'name': '004 18:18:10.7897', 'status': array([0], dtype=uint32), 'groupindex': array([0], dtype=uint32), 'color': array([0], dtype=uint32), 'activerow': array([0], dtype=uint32), 'triggernumber': array([4], dtype=uint64), 'gridrows': array([1], dtype=uint32), 'gridcols': array([6000], dtype=uint32), 'gridmode': array([2], dtype=uint32), 'gridoperation': array([1], dtype=uint32), 'griddirection': array([0], dtype=uint32), 'gridrepetitions': array([1], dtype=uint32), 'gridcoldelta': array([3.33333333e-05]), 'gridcoloffset': array([-0.001]), 'gridrowdelta': array([1.]), 'gridrowoffset': array([0.]), 'bandwidth': array([nan]), 'center': array([0.]), 'nenbw': array([nan])}, value=array([[       nan,        nan,        nan, ..., 0.00143852, 0.00143852,\n",
      "        0.00143852]], shape=(1, 6000)), time=array([  0.        ,   0.        ,   0.        , ..., 389.33830942,\n",
      "       389.33834275, 389.33837608], shape=(6000,)), frequency=None, shape=(1, 6000)), DAQResult(header={'systemtime': array([1751710690], dtype=uint64), 'createdtimestamp': array([23360310965], dtype=uint64), 'changedtimestamp': array([23360310965], dtype=uint64), 'flags': array([825], dtype=uint32), 'moduleflags': array([0], dtype=uint32), 'chunksizebytes': array([0], dtype=uint64), 'name': '005 18:18:10.7901', 'status': array([0], dtype=uint32), 'groupindex': array([0], dtype=uint32), 'color': array([0], dtype=uint32), 'activerow': array([0], dtype=uint32), 'triggernumber': array([5], dtype=uint64), 'gridrows': array([1], dtype=uint32), 'gridcols': array([6000], dtype=uint32), 'gridmode': array([2], dtype=uint32), 'gridoperation': array([1], dtype=uint32), 'griddirection': array([0], dtype=uint32), 'gridrepetitions': array([1], dtype=uint32), 'gridcoldelta': array([3.33333333e-05]), 'gridcoloffset': array([-0.001]), 'gridrowdelta': array([1.]), 'gridrowoffset': array([0.]), 'bandwidth': array([nan]), 'center': array([0.]), 'nenbw': array([nan])}, value=array([[0.00143852, 0.00143852, 0.00143852, ..., 0.00143864, 0.00143864,\n",
      "        0.00143864]], shape=(1, 6000)), time=array([0.00000000e+00, 3.33333333e-05, 6.66666667e-05, ...,\n",
      "       1.99900000e-01, 1.99933333e-01, 1.99966667e-01], shape=(6000,)), frequency=None, shape=(1, 6000))], '/dev30577/demods/0/sample.y': [DAQResult(header={'systemtime': array([1751710690], dtype=uint64), 'createdtimestamp': array([23348304565], dtype=uint64), 'changedtimestamp': array([23348304565], dtype=uint64), 'flags': array([825], dtype=uint32), 'moduleflags': array([0], dtype=uint32), 'chunksizebytes': array([0], dtype=uint64), 'name': '004 18:18:10.7897', 'status': array([0], dtype=uint32), 'groupindex': array([0], dtype=uint32), 'color': array([0], dtype=uint32), 'activerow': array([0], dtype=uint32), 'triggernumber': array([4], dtype=uint64), 'gridrows': array([1], dtype=uint32), 'gridcols': array([6000], dtype=uint32), 'gridmode': array([2], dtype=uint32), 'gridoperation': array([1], dtype=uint32), 'griddirection': array([0], dtype=uint32), 'gridrepetitions': array([1], dtype=uint32), 'gridcoldelta': array([3.33333333e-05]), 'gridcoloffset': array([-0.001]), 'gridrowdelta': array([1.]), 'gridrowoffset': array([0.]), 'bandwidth': array([nan]), 'center': array([0.]), 'nenbw': array([nan])}, value=array([[            nan,             nan,             nan, ...,\n",
      "        -4.36267650e-05, -4.36278372e-05, -4.36289318e-05]],\n",
      "      shape=(1, 6000)), time=array([  0.        ,   0.        ,   0.        , ..., 389.33830942,\n",
      "       389.33834275, 389.33837608], shape=(6000,)), frequency=None, shape=(1, 6000)), DAQResult(header={'systemtime': array([1751710690], dtype=uint64), 'createdtimestamp': array([23360310965], dtype=uint64), 'changedtimestamp': array([23360310965], dtype=uint64), 'flags': array([825], dtype=uint32), 'moduleflags': array([0], dtype=uint32), 'chunksizebytes': array([0], dtype=uint64), 'name': '005 18:18:10.7901', 'status': array([0], dtype=uint32), 'groupindex': array([0], dtype=uint32), 'color': array([0], dtype=uint32), 'activerow': array([0], dtype=uint32), 'triggernumber': array([5], dtype=uint64), 'gridrows': array([1], dtype=uint32), 'gridcols': array([6000], dtype=uint32), 'gridmode': array([2], dtype=uint32), 'gridoperation': array([1], dtype=uint32), 'griddirection': array([0], dtype=uint32), 'gridrepetitions': array([1], dtype=uint32), 'gridcoldelta': array([3.33333333e-05]), 'gridcoloffset': array([-0.001]), 'gridrowdelta': array([1.]), 'gridrowoffset': array([0.]), 'bandwidth': array([nan]), 'center': array([0.]), 'nenbw': array([nan])}, value=array([[-4.36335294e-05, -4.36346240e-05, -4.36357187e-05, ...,\n",
      "        -4.32172197e-05, -4.32184163e-05, -4.32196447e-05]],\n",
      "      shape=(1, 6000)), time=array([0.00000000e+00, 3.33333333e-05, 6.66666667e-05, ...,\n",
      "       1.99900000e-01, 1.99933333e-01, 1.99966667e-01], shape=(6000,)), frequency=None, shape=(1, 6000))]}\n",
      "{'/dev30577/demods/0/sample.x': [DAQResult(header={'systemtime': array([1751710691], dtype=uint64), 'createdtimestamp': array([23372317365], dtype=uint64), 'changedtimestamp': array([23372317365], dtype=uint64), 'flags': array([825], dtype=uint32), 'moduleflags': array([0], dtype=uint32), 'chunksizebytes': array([0], dtype=uint64), 'name': '006 18:18:11.0001', 'status': array([0], dtype=uint32), 'groupindex': array([0], dtype=uint32), 'color': array([0], dtype=uint32), 'activerow': array([0], dtype=uint32), 'triggernumber': array([6], dtype=uint64), 'gridrows': array([1], dtype=uint32), 'gridcols': array([6000], dtype=uint32), 'gridmode': array([2], dtype=uint32), 'gridoperation': array([1], dtype=uint32), 'griddirection': array([0], dtype=uint32), 'gridrepetitions': array([1], dtype=uint32), 'gridcoldelta': array([3.33333333e-05]), 'gridcoloffset': array([-0.001]), 'gridrowdelta': array([1.]), 'gridrowoffset': array([0.]), 'bandwidth': array([nan]), 'center': array([0.]), 'nenbw': array([nan])}, value=array([[0.00143863, 0.00143863, 0.00143863, ..., 0.00143843, 0.00143843,\n",
      "        0.00143843]], shape=(1, 6000)), time=array([0.00000000e+00, 3.33333333e-05, 6.66666667e-05, ...,\n",
      "       1.99900000e-01, 1.99933333e-01, 1.99966667e-01], shape=(6000,)), frequency=None, shape=(1, 6000))], '/dev30577/demods/0/sample.y': [DAQResult(header={'systemtime': array([1751710691], dtype=uint64), 'createdtimestamp': array([23372317365], dtype=uint64), 'changedtimestamp': array([23372317365], dtype=uint64), 'flags': array([825], dtype=uint32), 'moduleflags': array([0], dtype=uint32), 'chunksizebytes': array([0], dtype=uint64), 'name': '006 18:18:11.0001', 'status': array([0], dtype=uint32), 'groupindex': array([0], dtype=uint32), 'color': array([0], dtype=uint32), 'activerow': array([0], dtype=uint32), 'triggernumber': array([6], dtype=uint64), 'gridrows': array([1], dtype=uint32), 'gridcols': array([6000], dtype=uint32), 'gridmode': array([2], dtype=uint32), 'gridoperation': array([1], dtype=uint32), 'griddirection': array([0], dtype=uint32), 'gridrepetitions': array([1], dtype=uint32), 'gridcoldelta': array([3.33333333e-05]), 'gridcoloffset': array([-0.001]), 'gridrowdelta': array([1.]), 'gridrowoffset': array([0.]), 'bandwidth': array([nan]), 'center': array([0.]), 'nenbw': array([nan])}, value=array([[-4.32248041e-05, -4.32260326e-05, -4.32272610e-05, ...,\n",
      "        -4.34559351e-05, -4.34565275e-05, -4.34571523e-05]],\n",
      "      shape=(1, 6000)), time=array([0.00000000e+00, 3.33333333e-05, 6.66666667e-05, ...,\n",
      "       1.99900000e-01, 1.99933333e-01, 1.99966667e-01], shape=(6000,)), frequency=None, shape=(1, 6000))]}\n",
      "{'/dev30577/demods/0/sample.x': [DAQResult(header={'systemtime': array([1751710691], dtype=uint64), 'createdtimestamp': array([23384323765], dtype=uint64), 'changedtimestamp': array([23384323765], dtype=uint64), 'flags': array([825], dtype=uint32), 'moduleflags': array([0], dtype=uint32), 'chunksizebytes': array([0], dtype=uint64), 'name': '007 18:18:11.2003', 'status': array([0], dtype=uint32), 'groupindex': array([0], dtype=uint32), 'color': array([0], dtype=uint32), 'activerow': array([0], dtype=uint32), 'triggernumber': array([7], dtype=uint64), 'gridrows': array([1], dtype=uint32), 'gridcols': array([6000], dtype=uint32), 'gridmode': array([2], dtype=uint32), 'gridoperation': array([1], dtype=uint32), 'griddirection': array([0], dtype=uint32), 'gridrepetitions': array([1], dtype=uint32), 'gridcoldelta': array([3.33333333e-05]), 'gridcoloffset': array([-0.001]), 'gridrowdelta': array([1.]), 'gridrowoffset': array([0.]), 'bandwidth': array([nan]), 'center': array([0.]), 'nenbw': array([nan])}, value=array([[0.00143842, 0.00143842, 0.00143842, ..., 0.0014387 , 0.0014387 ,\n",
      "        0.0014387 ]], shape=(1, 6000)), time=array([0.00000000e+00, 3.33333333e-05, 6.66666667e-05, ...,\n",
      "       1.99900000e-01, 1.99933333e-01, 1.99966667e-01], shape=(6000,)), frequency=None, shape=(1, 6000))], '/dev30577/demods/0/sample.y': [DAQResult(header={'systemtime': array([1751710691], dtype=uint64), 'createdtimestamp': array([23384323765], dtype=uint64), 'changedtimestamp': array([23384323765], dtype=uint64), 'flags': array([825], dtype=uint32), 'moduleflags': array([0], dtype=uint32), 'chunksizebytes': array([0], dtype=uint64), 'name': '007 18:18:11.2003', 'status': array([0], dtype=uint32), 'groupindex': array([0], dtype=uint32), 'color': array([0], dtype=uint32), 'activerow': array([0], dtype=uint32), 'triggernumber': array([7], dtype=uint64), 'gridrows': array([1], dtype=uint32), 'gridcols': array([6000], dtype=uint32), 'gridmode': array([2], dtype=uint32), 'gridoperation': array([1], dtype=uint32), 'griddirection': array([0], dtype=uint32), 'gridrepetitions': array([1], dtype=uint32), 'gridcoldelta': array([3.33333333e-05]), 'gridcoloffset': array([-0.001]), 'gridrowdelta': array([1.]), 'gridrowoffset': array([0.]), 'bandwidth': array([nan]), 'center': array([0.]), 'nenbw': array([nan])}, value=array([[-4.34597765e-05, -4.34604013e-05, -4.34610262e-05, ...,\n",
      "        -4.32341729e-05, -4.32339569e-05, -4.32337788e-05]],\n",
      "      shape=(1, 6000)), time=array([0.00000000e+00, 3.33333333e-05, 6.66666667e-05, ...,\n",
      "       1.99900000e-01, 1.99933333e-01, 1.99966667e-01], shape=(6000,)), frequency=None, shape=(1, 6000))]}\n",
      "{'/dev30577/demods/0/sample.x': [DAQResult(header={'systemtime': array([1751710691], dtype=uint64), 'createdtimestamp': array([23396330165], dtype=uint64), 'changedtimestamp': array([23396330165], dtype=uint64), 'flags': array([825], dtype=uint32), 'moduleflags': array([0], dtype=uint32), 'chunksizebytes': array([0], dtype=uint64), 'name': '008 18:18:11.4056', 'status': array([0], dtype=uint32), 'groupindex': array([0], dtype=uint32), 'color': array([0], dtype=uint32), 'activerow': array([0], dtype=uint32), 'triggernumber': array([8], dtype=uint64), 'gridrows': array([1], dtype=uint32), 'gridcols': array([6000], dtype=uint32), 'gridmode': array([2], dtype=uint32), 'gridoperation': array([1], dtype=uint32), 'griddirection': array([0], dtype=uint32), 'gridrepetitions': array([1], dtype=uint32), 'gridcoldelta': array([3.33333333e-05]), 'gridcoloffset': array([-0.001]), 'gridrowdelta': array([1.]), 'gridrowoffset': array([0.]), 'bandwidth': array([nan]), 'center': array([0.]), 'nenbw': array([nan])}, value=array([[0.00143869, 0.00143869, 0.00143869, ..., 0.00143883, 0.00143883,\n",
      "        0.00143883]], shape=(1, 6000)), time=array([0.00000000e+00, 3.33333333e-05, 6.66666667e-05, ...,\n",
      "       1.99900000e-01, 1.99933333e-01, 1.99966667e-01], shape=(6000,)), frequency=None, shape=(1, 6000))], '/dev30577/demods/0/sample.y': [DAQResult(header={'systemtime': array([1751710691], dtype=uint64), 'createdtimestamp': array([23396330165], dtype=uint64), 'changedtimestamp': array([23396330165], dtype=uint64), 'flags': array([825], dtype=uint32), 'moduleflags': array([0], dtype=uint32), 'chunksizebytes': array([0], dtype=uint64), 'name': '008 18:18:11.4056', 'status': array([0], dtype=uint32), 'groupindex': array([0], dtype=uint32), 'color': array([0], dtype=uint32), 'activerow': array([0], dtype=uint32), 'triggernumber': array([8], dtype=uint64), 'gridrows': array([1], dtype=uint32), 'gridcols': array([6000], dtype=uint32), 'gridmode': array([2], dtype=uint32), 'gridoperation': array([1], dtype=uint32), 'griddirection': array([0], dtype=uint32), 'gridrepetitions': array([1], dtype=uint32), 'gridcoldelta': array([3.33333333e-05]), 'gridcoloffset': array([-0.001]), 'gridrowdelta': array([1.]), 'gridrowoffset': array([0.]), 'bandwidth': array([nan]), 'center': array([0.]), 'nenbw': array([nan])}, value=array([[-4.32330306e-05, -4.32328525e-05, -4.32326744e-05, ...,\n",
      "        -4.36728976e-05, -4.36723686e-05, -4.36718688e-05]],\n",
      "      shape=(1, 6000)), time=array([0.00000000e+00, 3.33333333e-05, 6.66666667e-05, ...,\n",
      "       1.99900000e-01, 1.99933333e-01, 1.99966667e-01], shape=(6000,)), frequency=None, shape=(1, 6000))]}\n",
      "{'/dev30577/demods/0/sample.x': [DAQResult(header={'systemtime': array([1751710691], dtype=uint64), 'createdtimestamp': array([23408336565], dtype=uint64), 'changedtimestamp': array([23408336565], dtype=uint64), 'flags': array([825], dtype=uint32), 'moduleflags': array([0], dtype=uint32), 'chunksizebytes': array([0], dtype=uint64), 'name': '009 18:18:11.6058', 'status': array([0], dtype=uint32), 'groupindex': array([0], dtype=uint32), 'color': array([0], dtype=uint32), 'activerow': array([0], dtype=uint32), 'triggernumber': array([9], dtype=uint64), 'gridrows': array([1], dtype=uint32), 'gridcols': array([6000], dtype=uint32), 'gridmode': array([2], dtype=uint32), 'gridoperation': array([1], dtype=uint32), 'griddirection': array([0], dtype=uint32), 'gridrepetitions': array([1], dtype=uint32), 'gridcoldelta': array([3.33333333e-05]), 'gridcoloffset': array([-0.001]), 'gridrowdelta': array([1.]), 'gridrowoffset': array([0.]), 'bandwidth': array([nan]), 'center': array([0.]), 'nenbw': array([nan])}, value=array([[0.00143883, 0.00143883, 0.00143883, ..., 0.00143903, 0.00143903,\n",
      "        0.00143903]], shape=(1, 6000)), time=array([0.00000000e+00, 3.33333333e-05, 6.66666667e-05, ...,\n",
      "       1.99900000e-01, 1.99933333e-01, 1.99966667e-01], shape=(6000,)), frequency=None, shape=(1, 6000))], '/dev30577/demods/0/sample.y': [DAQResult(header={'systemtime': array([1751710691], dtype=uint64), 'createdtimestamp': array([23408336565], dtype=uint64), 'changedtimestamp': array([23408336565], dtype=uint64), 'flags': array([825], dtype=uint32), 'moduleflags': array([0], dtype=uint32), 'chunksizebytes': array([0], dtype=uint64), 'name': '009 18:18:11.6058', 'status': array([0], dtype=uint32), 'groupindex': array([0], dtype=uint32), 'color': array([0], dtype=uint32), 'activerow': array([0], dtype=uint32), 'triggernumber': array([9], dtype=uint64), 'gridrows': array([1], dtype=uint32), 'gridcols': array([6000], dtype=uint32), 'gridmode': array([2], dtype=uint32), 'gridoperation': array([1], dtype=uint32), 'griddirection': array([0], dtype=uint32), 'gridrepetitions': array([1], dtype=uint32), 'gridcoldelta': array([3.33333333e-05]), 'gridcoloffset': array([-0.001]), 'gridrowdelta': array([1.]), 'gridrowoffset': array([0.]), 'bandwidth': array([nan]), 'center': array([0.]), 'nenbw': array([nan])}, value=array([[-4.36697696e-05, -4.36692698e-05, -4.36687700e-05, ...,\n",
      "        -4.32568064e-05, -4.32559985e-05, -4.32552283e-05]],\n",
      "      shape=(1, 6000)), time=array([0.00000000e+00, 3.33333333e-05, 6.66666667e-05, ...,\n",
      "       1.99900000e-01, 1.99933333e-01, 1.99966667e-01], shape=(6000,)), frequency=None, shape=(1, 6000))]}\n",
      "{'/dev30577/demods/0/sample.x': [DAQResult(header={'systemtime': array([1751710691], dtype=uint64), 'createdtimestamp': array([23420342965], dtype=uint64), 'changedtimestamp': array([23420342965], dtype=uint64), 'flags': array([825], dtype=uint32), 'moduleflags': array([0], dtype=uint32), 'chunksizebytes': array([0], dtype=uint64), 'name': '010 18:18:11.8085', 'status': array([0], dtype=uint32), 'groupindex': array([0], dtype=uint32), 'color': array([0], dtype=uint32), 'activerow': array([0], dtype=uint32), 'triggernumber': array([10], dtype=uint64), 'gridrows': array([1], dtype=uint32), 'gridcols': array([6000], dtype=uint32), 'gridmode': array([2], dtype=uint32), 'gridoperation': array([1], dtype=uint32), 'griddirection': array([0], dtype=uint32), 'gridrepetitions': array([1], dtype=uint32), 'gridcoldelta': array([3.33333333e-05]), 'gridcoloffset': array([-0.001]), 'gridrowdelta': array([1.]), 'gridrowoffset': array([0.]), 'bandwidth': array([nan]), 'center': array([0.]), 'nenbw': array([nan])}, value=array([[0.00143903, 0.00143903, 0.00143902, ..., 0.00143909, 0.00143909,\n",
      "        0.00143909]], shape=(1, 6000)), time=array([0.00000000e+00, 3.33333333e-05, 6.66666667e-05, ...,\n",
      "       1.99900000e-01, 1.99933333e-01, 1.99966667e-01], shape=(6000,)), frequency=None, shape=(1, 6000))], '/dev30577/demods/0/sample.y': [DAQResult(header={'systemtime': array([1751710691], dtype=uint64), 'createdtimestamp': array([23420342965], dtype=uint64), 'changedtimestamp': array([23420342965], dtype=uint64), 'flags': array([825], dtype=uint32), 'moduleflags': array([0], dtype=uint32), 'chunksizebytes': array([0], dtype=uint64), 'name': '010 18:18:11.8085', 'status': array([0], dtype=uint32), 'groupindex': array([0], dtype=uint32), 'color': array([0], dtype=uint32), 'activerow': array([0], dtype=uint32), 'triggernumber': array([10], dtype=uint64), 'gridrows': array([1], dtype=uint32), 'gridcols': array([6000], dtype=uint32), 'gridmode': array([2], dtype=uint32), 'gridoperation': array([1], dtype=uint32), 'griddirection': array([0], dtype=uint32), 'gridrepetitions': array([1], dtype=uint32), 'gridcoldelta': array([3.33333333e-05]), 'gridcoloffset': array([-0.001]), 'gridrowdelta': array([1.]), 'gridrowoffset': array([0.]), 'bandwidth': array([nan]), 'center': array([0.]), 'nenbw': array([nan])}, value=array([[-4.32519937e-05, -4.32512236e-05, -4.32504534e-05, ...,\n",
      "        -4.37527742e-05, -4.37521652e-05, -4.37515800e-05]],\n",
      "      shape=(1, 6000)), time=array([0.00000000e+00, 3.33333333e-05, 6.66666667e-05, ...,\n",
      "       1.99900000e-01, 1.99933333e-01, 1.99966667e-01], shape=(6000,)), frequency=None, shape=(1, 6000))]}\n",
      "{'/dev30577/demods/0/sample.x': [DAQResult(header={'systemtime': array([1751710692], dtype=uint64), 'createdtimestamp': array([23432349365], dtype=uint64), 'changedtimestamp': array([23432349365], dtype=uint64), 'flags': array([825], dtype=uint32), 'moduleflags': array([0], dtype=uint32), 'chunksizebytes': array([0], dtype=uint64), 'name': '011 18:18:12.0115', 'status': array([0], dtype=uint32), 'groupindex': array([0], dtype=uint32), 'color': array([0], dtype=uint32), 'activerow': array([0], dtype=uint32), 'triggernumber': array([11], dtype=uint64), 'gridrows': array([1], dtype=uint32), 'gridcols': array([6000], dtype=uint32), 'gridmode': array([2], dtype=uint32), 'gridoperation': array([1], dtype=uint32), 'griddirection': array([0], dtype=uint32), 'gridrepetitions': array([1], dtype=uint32), 'gridcoldelta': array([3.33333333e-05]), 'gridcoloffset': array([-0.001]), 'gridrowdelta': array([1.]), 'gridrowoffset': array([0.]), 'bandwidth': array([nan]), 'center': array([0.]), 'nenbw': array([nan])}, value=array([[0.00143909, 0.00143909, 0.00143909, ..., 0.00143927, 0.00143927,\n",
      "        0.00143926]], shape=(1, 6000)), time=array([0.00000000e+00, 3.33333333e-05, 6.66666667e-05, ...,\n",
      "       1.99900000e-01, 1.99933333e-01, 1.99966667e-01], shape=(6000,)), frequency=None, shape=(1, 6000))], '/dev30577/demods/0/sample.y': [DAQResult(header={'systemtime': array([1751710692], dtype=uint64), 'createdtimestamp': array([23432349365], dtype=uint64), 'changedtimestamp': array([23432349365], dtype=uint64), 'flags': array([825], dtype=uint32), 'moduleflags': array([0], dtype=uint32), 'chunksizebytes': array([0], dtype=uint64), 'name': '011 18:18:12.0115', 'status': array([0], dtype=uint32), 'groupindex': array([0], dtype=uint32), 'color': array([0], dtype=uint32), 'activerow': array([0], dtype=uint32), 'triggernumber': array([11], dtype=uint64), 'gridrows': array([1], dtype=uint32), 'gridcols': array([6000], dtype=uint32), 'gridmode': array([2], dtype=uint32), 'gridoperation': array([1], dtype=uint32), 'griddirection': array([0], dtype=uint32), 'gridrepetitions': array([1], dtype=uint32), 'gridcoldelta': array([3.33333333e-05]), 'gridcoloffset': array([-0.001]), 'gridrowdelta': array([1.]), 'gridrowoffset': array([0.]), 'bandwidth': array([nan]), 'center': array([0.]), 'nenbw': array([nan])}, value=array([[-4.37491223e-05, -4.37485371e-05, -4.37479520e-05, ...,\n",
      "        -4.39089662e-05, -4.39074199e-05, -4.39058830e-05]],\n",
      "      shape=(1, 6000)), time=array([0.00000000e+00, 3.33333333e-05, 6.66666667e-05, ...,\n",
      "       1.99900000e-01, 1.99933333e-01, 1.99966667e-01], shape=(6000,)), frequency=None, shape=(1, 6000))]}\n",
      "{'/dev30577/demods/0/sample.x': [DAQResult(header={'systemtime': array([1751710692], dtype=uint64), 'createdtimestamp': array([23444355765], dtype=uint64), 'changedtimestamp': array([23444355765], dtype=uint64), 'flags': array([825], dtype=uint32), 'moduleflags': array([0], dtype=uint32), 'chunksizebytes': array([0], dtype=uint64), 'name': '012 18:18:12.2141', 'status': array([0], dtype=uint32), 'groupindex': array([0], dtype=uint32), 'color': array([0], dtype=uint32), 'activerow': array([0], dtype=uint32), 'triggernumber': array([12], dtype=uint64), 'gridrows': array([1], dtype=uint32), 'gridcols': array([6000], dtype=uint32), 'gridmode': array([2], dtype=uint32), 'gridoperation': array([1], dtype=uint32), 'griddirection': array([0], dtype=uint32), 'gridrepetitions': array([1], dtype=uint32), 'gridcoldelta': array([3.33333333e-05]), 'gridcoloffset': array([-0.001]), 'gridrowdelta': array([1.]), 'gridrowoffset': array([0.]), 'bandwidth': array([nan]), 'center': array([0.]), 'nenbw': array([nan])}, value=array([[0.00143926, 0.00143926, 0.00143926, ..., 0.00143927, 0.00143927,\n",
      "        0.00143927]], shape=(1, 6000)), time=array([0.00000000e+00, 3.33333333e-05, 6.66666667e-05, ...,\n",
      "       1.99900000e-01, 1.99933333e-01, 1.99966667e-01], shape=(6000,)), frequency=None, shape=(1, 6000))], '/dev30577/demods/0/sample.y': [DAQResult(header={'systemtime': array([1751710692], dtype=uint64), 'createdtimestamp': array([23444355765], dtype=uint64), 'changedtimestamp': array([23444355765], dtype=uint64), 'flags': array([825], dtype=uint32), 'moduleflags': array([0], dtype=uint32), 'chunksizebytes': array([0], dtype=uint64), 'name': '012 18:18:12.2141', 'status': array([0], dtype=uint32), 'groupindex': array([0], dtype=uint32), 'color': array([0], dtype=uint32), 'activerow': array([0], dtype=uint32), 'triggernumber': array([12], dtype=uint64), 'gridrows': array([1], dtype=uint32), 'gridcols': array([6000], dtype=uint32), 'gridmode': array([2], dtype=uint32), 'gridoperation': array([1], dtype=uint32), 'griddirection': array([0], dtype=uint32), 'gridrepetitions': array([1], dtype=uint32), 'gridcoldelta': array([3.33333333e-05]), 'gridcoloffset': array([-0.001]), 'gridrowdelta': array([1.]), 'gridrowoffset': array([0.]), 'bandwidth': array([nan]), 'center': array([0.]), 'nenbw': array([nan])}, value=array([[-4.38994280e-05, -4.38978911e-05, -4.38963542e-05, ...,\n",
      "        -4.38985101e-05, -4.38971106e-05, -4.38957184e-05]],\n",
      "      shape=(1, 6000)), time=array([0.00000000e+00, 3.33333333e-05, 6.66666667e-05, ...,\n",
      "       1.99900000e-01, 1.99933333e-01, 1.99966667e-01], shape=(6000,)), frequency=None, shape=(1, 6000))]}\n",
      "{'/dev30577/demods/0/sample.x': [DAQResult(header={'systemtime': array([1751710692], dtype=uint64), 'createdtimestamp': array([23456362165], dtype=uint64), 'changedtimestamp': array([23456362165], dtype=uint64), 'flags': array([825], dtype=uint32), 'moduleflags': array([0], dtype=uint32), 'chunksizebytes': array([0], dtype=uint64), 'name': '013 18:18:12.4167', 'status': array([0], dtype=uint32), 'groupindex': array([0], dtype=uint32), 'color': array([0], dtype=uint32), 'activerow': array([0], dtype=uint32), 'triggernumber': array([13], dtype=uint64), 'gridrows': array([1], dtype=uint32), 'gridcols': array([6000], dtype=uint32), 'gridmode': array([2], dtype=uint32), 'gridoperation': array([1], dtype=uint32), 'griddirection': array([0], dtype=uint32), 'gridrepetitions': array([1], dtype=uint32), 'gridcoldelta': array([3.33333333e-05]), 'gridcoloffset': array([-0.001]), 'gridrowdelta': array([1.]), 'gridrowoffset': array([0.]), 'bandwidth': array([nan]), 'center': array([0.]), 'nenbw': array([nan])}, value=array([[0.00143927, 0.00143927, 0.00143927, ..., 0.00143935, 0.00143935,\n",
      "        0.00143935]], shape=(1, 6000)), time=array([0.00000000e+00, 3.33333333e-05, 6.66666667e-05, ...,\n",
      "       1.99900000e-01, 1.99933333e-01, 1.99966667e-01], shape=(6000,)), frequency=None, shape=(1, 6000))], '/dev30577/demods/0/sample.y': [DAQResult(header={'systemtime': array([1751710692], dtype=uint64), 'createdtimestamp': array([23456362165], dtype=uint64), 'changedtimestamp': array([23456362165], dtype=uint64), 'flags': array([825], dtype=uint32), 'moduleflags': array([0], dtype=uint32), 'chunksizebytes': array([0], dtype=uint64), 'name': '013 18:18:12.4167', 'status': array([0], dtype=uint32), 'groupindex': array([0], dtype=uint32), 'color': array([0], dtype=uint32), 'activerow': array([0], dtype=uint32), 'triggernumber': array([13], dtype=uint64), 'gridrows': array([1], dtype=uint32), 'gridcols': array([6000], dtype=uint32), 'gridmode': array([2], dtype=uint32), 'gridoperation': array([1], dtype=uint32), 'griddirection': array([0], dtype=uint32), 'gridrepetitions': array([1], dtype=uint32), 'gridcoldelta': array([3.33333333e-05]), 'gridcoloffset': array([-0.001]), 'gridrowdelta': array([1.]), 'gridrowoffset': array([0.]), 'bandwidth': array([nan]), 'center': array([0.]), 'nenbw': array([nan])}, value=array([[-4.38898713e-05, -4.38884792e-05, -4.38870870e-05, ...,\n",
      "        -4.40791445e-05, -4.40776698e-05, -4.40761909e-05]],\n",
      "      shape=(1, 6000)), time=array([0.00000000e+00, 3.33333333e-05, 6.66666667e-05, ...,\n",
      "       1.99900000e-01, 1.99933333e-01, 1.99966667e-01], shape=(6000,)), frequency=None, shape=(1, 6000))]}\n",
      "{'/dev30577/demods/0/sample.x': [DAQResult(header={'systemtime': array([1751710692], dtype=uint64), 'createdtimestamp': array([23468368565], dtype=uint64), 'changedtimestamp': array([23468368565], dtype=uint64), 'flags': array([825], dtype=uint32), 'moduleflags': array([0], dtype=uint32), 'chunksizebytes': array([0], dtype=uint64), 'name': '014 18:18:12.6188', 'status': array([0], dtype=uint32), 'groupindex': array([0], dtype=uint32), 'color': array([0], dtype=uint32), 'activerow': array([0], dtype=uint32), 'triggernumber': array([14], dtype=uint64), 'gridrows': array([1], dtype=uint32), 'gridcols': array([6000], dtype=uint32), 'gridmode': array([2], dtype=uint32), 'gridoperation': array([1], dtype=uint32), 'griddirection': array([0], dtype=uint32), 'gridrepetitions': array([1], dtype=uint32), 'gridcoldelta': array([3.33333333e-05]), 'gridcoloffset': array([-0.001]), 'gridrowdelta': array([1.]), 'gridrowoffset': array([0.]), 'bandwidth': array([nan]), 'center': array([0.]), 'nenbw': array([nan])}, value=array([[0.00143936, 0.00143936, 0.00143936, ..., 0.00143932, 0.00143932,\n",
      "        0.00143933]], shape=(1, 6000)), time=array([0.00000000e+00, 3.33333333e-05, 6.66666667e-05, ...,\n",
      "       1.99900000e-01, 1.99933333e-01, 1.99966667e-01], shape=(6000,)), frequency=None, shape=(1, 6000))], '/dev30577/demods/0/sample.y': [DAQResult(header={'systemtime': array([1751710692], dtype=uint64), 'createdtimestamp': array([23468368565], dtype=uint64), 'changedtimestamp': array([23468368565], dtype=uint64), 'flags': array([825], dtype=uint32), 'moduleflags': array([0], dtype=uint32), 'chunksizebytes': array([0], dtype=uint64), 'name': '014 18:18:12.6188', 'status': array([0], dtype=uint32), 'groupindex': array([0], dtype=uint32), 'color': array([0], dtype=uint32), 'activerow': array([0], dtype=uint32), 'triggernumber': array([14], dtype=uint64), 'gridrows': array([1], dtype=uint32), 'gridcols': array([6000], dtype=uint32), 'gridmode': array([2], dtype=uint32), 'gridoperation': array([1], dtype=uint32), 'griddirection': array([0], dtype=uint32), 'gridrepetitions': array([1], dtype=uint32), 'gridcoldelta': array([3.33333333e-05]), 'gridcoloffset': array([-0.001]), 'gridrowdelta': array([1.]), 'gridrowoffset': array([0.]), 'bandwidth': array([nan]), 'center': array([0.]), 'nenbw': array([nan])}, value=array([[-4.40699796e-05, -4.40685007e-05, -4.40670219e-05, ...,\n",
      "        -4.40857635e-05, -4.40844085e-05, -4.40830346e-05]],\n",
      "      shape=(1, 6000)), time=array([0.00000000e+00, 3.33333333e-05, 6.66666667e-05, ...,\n",
      "       1.99900000e-01, 1.99933333e-01, 1.99966667e-01], shape=(6000,)), frequency=None, shape=(1, 6000))]}\n",
      "{'/dev30577/demods/0/sample.x': [DAQResult(header={'systemtime': array([1751710692], dtype=uint64), 'createdtimestamp': array([23480374965], dtype=uint64), 'changedtimestamp': array([23480374965], dtype=uint64), 'flags': array([825], dtype=uint32), 'moduleflags': array([0], dtype=uint32), 'chunksizebytes': array([0], dtype=uint64), 'name': '015 18:18:12.8212', 'status': array([0], dtype=uint32), 'groupindex': array([0], dtype=uint32), 'color': array([0], dtype=uint32), 'activerow': array([0], dtype=uint32), 'triggernumber': array([15], dtype=uint64), 'gridrows': array([1], dtype=uint32), 'gridcols': array([6000], dtype=uint32), 'gridmode': array([2], dtype=uint32), 'gridoperation': array([1], dtype=uint32), 'griddirection': array([0], dtype=uint32), 'gridrepetitions': array([1], dtype=uint32), 'gridcoldelta': array([3.33333333e-05]), 'gridcoloffset': array([-0.001]), 'gridrowdelta': array([1.]), 'gridrowoffset': array([0.]), 'bandwidth': array([nan]), 'center': array([0.]), 'nenbw': array([nan])}, value=array([[0.00143933, 0.00143933, 0.00143933, ..., 0.00143907, 0.00143907,\n",
      "        0.00143907]], shape=(1, 6000)), time=array([0.00000000e+00, 3.33333333e-05, 6.66666667e-05, ...,\n",
      "       1.99900000e-01, 1.99933333e-01, 1.99966667e-01], shape=(6000,)), frequency=None, shape=(1, 6000))], '/dev30577/demods/0/sample.y': [DAQResult(header={'systemtime': array([1751710692], dtype=uint64), 'createdtimestamp': array([23480374965], dtype=uint64), 'changedtimestamp': array([23480374965], dtype=uint64), 'flags': array([825], dtype=uint32), 'moduleflags': array([0], dtype=uint32), 'chunksizebytes': array([0], dtype=uint64), 'name': '015 18:18:12.8212', 'status': array([0], dtype=uint32), 'groupindex': array([0], dtype=uint32), 'color': array([0], dtype=uint32), 'activerow': array([0], dtype=uint32), 'triggernumber': array([15], dtype=uint64), 'gridrows': array([1], dtype=uint32), 'gridcols': array([6000], dtype=uint32), 'gridmode': array([2], dtype=uint32), 'gridoperation': array([1], dtype=uint32), 'griddirection': array([0], dtype=uint32), 'gridrepetitions': array([1], dtype=uint32), 'gridcoldelta': array([3.33333333e-05]), 'gridcoloffset': array([-0.001]), 'gridrowdelta': array([1.]), 'gridrowoffset': array([0.]), 'bandwidth': array([nan]), 'center': array([0.]), 'nenbw': array([nan])}, value=array([[-4.40772644e-05, -4.40758906e-05, -4.40745167e-05, ...,\n",
      "        -4.42351248e-05, -4.42339738e-05, -4.42328028e-05]],\n",
      "      shape=(1, 6000)), time=array([0.00000000e+00, 3.33333333e-05, 6.66666667e-05, ...,\n",
      "       1.99900000e-01, 1.99933333e-01, 1.99966667e-01], shape=(6000,)), frequency=None, shape=(1, 6000))]}\n",
      "{'/dev30577/demods/0/sample.x': [DAQResult(header={'systemtime': array([1751710693], dtype=uint64), 'createdtimestamp': array([23492381365], dtype=uint64), 'changedtimestamp': array([23492381365], dtype=uint64), 'flags': array([825], dtype=uint32), 'moduleflags': array([0], dtype=uint32), 'chunksizebytes': array([0], dtype=uint64), 'name': '016 18:18:13.0235', 'status': array([0], dtype=uint32), 'groupindex': array([0], dtype=uint32), 'color': array([0], dtype=uint32), 'activerow': array([0], dtype=uint32), 'triggernumber': array([16], dtype=uint64), 'gridrows': array([1], dtype=uint32), 'gridcols': array([6000], dtype=uint32), 'gridmode': array([2], dtype=uint32), 'gridoperation': array([1], dtype=uint32), 'griddirection': array([0], dtype=uint32), 'gridrepetitions': array([1], dtype=uint32), 'gridcoldelta': array([3.33333333e-05]), 'gridcoloffset': array([-0.001]), 'gridrowdelta': array([1.]), 'gridrowoffset': array([0.]), 'bandwidth': array([nan]), 'center': array([0.]), 'nenbw': array([nan])}, value=array([[0.00143907, 0.00143907, 0.00143907, ..., 0.00143856, 0.00143856,\n",
      "        0.00143856]], shape=(1, 6000)), time=array([0.00000000e+00, 3.33333333e-05, 6.66666667e-05, ...,\n",
      "       1.99900000e-01, 1.99933333e-01, 1.99966667e-01], shape=(6000,)), frequency=None, shape=(1, 6000))], '/dev30577/demods/0/sample.y': [DAQResult(header={'systemtime': array([1751710693], dtype=uint64), 'createdtimestamp': array([23492381365], dtype=uint64), 'changedtimestamp': array([23492381365], dtype=uint64), 'flags': array([825], dtype=uint32), 'moduleflags': array([0], dtype=uint32), 'chunksizebytes': array([0], dtype=uint64), 'name': '016 18:18:13.0235', 'status': array([0], dtype=uint32), 'groupindex': array([0], dtype=uint32), 'color': array([0], dtype=uint32), 'activerow': array([0], dtype=uint32), 'triggernumber': array([16], dtype=uint64), 'gridrows': array([1], dtype=uint32), 'gridcols': array([6000], dtype=uint32), 'gridmode': array([2], dtype=uint32), 'gridoperation': array([1], dtype=uint32), 'griddirection': array([0], dtype=uint32), 'gridrepetitions': array([1], dtype=uint32), 'gridcoldelta': array([3.33333333e-05]), 'gridcoloffset': array([-0.001]), 'gridrowdelta': array([1.]), 'gridrowoffset': array([0.]), 'bandwidth': array([nan]), 'center': array([0.]), 'nenbw': array([nan])}, value=array([[-4.42278845e-05, -4.42267135e-05, -4.42255425e-05, ...,\n",
      "        -4.39896159e-05, -4.39889252e-05, -4.39882033e-05]],\n",
      "      shape=(1, 6000)), time=array([0.00000000e+00, 3.33333333e-05, 6.66666667e-05, ...,\n",
      "       1.99900000e-01, 1.99933333e-01, 1.99966667e-01], shape=(6000,)), frequency=None, shape=(1, 6000))]}\n",
      "{'/dev30577/demods/0/sample.x': [DAQResult(header={'systemtime': array([1751710693], dtype=uint64), 'createdtimestamp': array([23504387765], dtype=uint64), 'changedtimestamp': array([23504387765], dtype=uint64), 'flags': array([825], dtype=uint32), 'moduleflags': array([0], dtype=uint32), 'chunksizebytes': array([0], dtype=uint64), 'name': '017 18:18:13.2265', 'status': array([0], dtype=uint32), 'groupindex': array([0], dtype=uint32), 'color': array([0], dtype=uint32), 'activerow': array([0], dtype=uint32), 'triggernumber': array([17], dtype=uint64), 'gridrows': array([1], dtype=uint32), 'gridcols': array([6000], dtype=uint32), 'gridmode': array([2], dtype=uint32), 'gridoperation': array([1], dtype=uint32), 'griddirection': array([0], dtype=uint32), 'gridrepetitions': array([1], dtype=uint32), 'gridcoldelta': array([3.33333333e-05]), 'gridcoloffset': array([-0.001]), 'gridrowdelta': array([1.]), 'gridrowoffset': array([0.]), 'bandwidth': array([nan]), 'center': array([0.]), 'nenbw': array([nan])}, value=array([[0.00143857, 0.00143857, 0.00143857, ..., 0.00143867, 0.00143867,\n",
      "        0.00143868]], shape=(1, 6000)), time=array([0.00000000e+00, 3.33333333e-05, 6.66666667e-05, ...,\n",
      "       1.99900000e-01, 1.99933333e-01, 1.99966667e-01], shape=(6000,)), frequency=None, shape=(1, 6000))], '/dev30577/demods/0/sample.y': [DAQResult(header={'systemtime': array([1751710693], dtype=uint64), 'createdtimestamp': array([23504387765], dtype=uint64), 'changedtimestamp': array([23504387765], dtype=uint64), 'flags': array([825], dtype=uint32), 'moduleflags': array([0], dtype=uint32), 'chunksizebytes': array([0], dtype=uint64), 'name': '017 18:18:13.2265', 'status': array([0], dtype=uint32), 'groupindex': array([0], dtype=uint32), 'color': array([0], dtype=uint32), 'activerow': array([0], dtype=uint32), 'triggernumber': array([17], dtype=uint64), 'gridrows': array([1], dtype=uint32), 'gridcols': array([6000], dtype=uint32), 'gridmode': array([2], dtype=uint32), 'gridoperation': array([1], dtype=uint32), 'griddirection': array([0], dtype=uint32), 'gridrepetitions': array([1], dtype=uint32), 'gridcoldelta': array([3.33333333e-05]), 'gridcoloffset': array([-0.001]), 'gridrowdelta': array([1.]), 'gridrowoffset': array([0.]), 'bandwidth': array([nan]), 'center': array([0.]), 'nenbw': array([nan])}, value=array([[-4.39851716e-05, -4.39844498e-05, -4.39837280e-05, ...,\n",
      "        -4.43127756e-05, -4.43126111e-05, -4.43124093e-05]],\n",
      "      shape=(1, 6000)), time=array([0.00000000e+00, 3.33333333e-05, 6.66666667e-05, ...,\n",
      "       1.99900000e-01, 1.99933333e-01, 1.99966667e-01], shape=(6000,)), frequency=None, shape=(1, 6000))]}\n",
      "{'/dev30577/demods/0/sample.x': [DAQResult(header={'systemtime': array([1751710693], dtype=uint64), 'createdtimestamp': array([23516394165], dtype=uint64), 'changedtimestamp': array([23516394165], dtype=uint64), 'flags': array([825], dtype=uint32), 'moduleflags': array([0], dtype=uint32), 'chunksizebytes': array([0], dtype=uint64), 'name': '018 18:18:13.4296', 'status': array([0], dtype=uint32), 'groupindex': array([0], dtype=uint32), 'color': array([0], dtype=uint32), 'activerow': array([0], dtype=uint32), 'triggernumber': array([18], dtype=uint64), 'gridrows': array([1], dtype=uint32), 'gridcols': array([6000], dtype=uint32), 'gridmode': array([2], dtype=uint32), 'gridoperation': array([1], dtype=uint32), 'griddirection': array([0], dtype=uint32), 'gridrepetitions': array([1], dtype=uint32), 'gridcoldelta': array([3.33333333e-05]), 'gridcoloffset': array([-0.001]), 'gridrowdelta': array([1.]), 'gridrowoffset': array([0.]), 'bandwidth': array([nan]), 'center': array([0.]), 'nenbw': array([nan])}, value=array([[0.00143868, 0.00143868, 0.00143868, ..., 0.00143848, 0.00143848,\n",
      "        0.00143848]], shape=(1, 6000)), time=array([0.00000000e+00, 3.33333333e-05, 6.66666667e-05, ...,\n",
      "       1.99900000e-01, 1.99933333e-01, 1.99966667e-01], shape=(6000,)), frequency=None, shape=(1, 6000))], '/dev30577/demods/0/sample.y': [DAQResult(header={'systemtime': array([1751710693], dtype=uint64), 'createdtimestamp': array([23516394165], dtype=uint64), 'changedtimestamp': array([23516394165], dtype=uint64), 'flags': array([825], dtype=uint32), 'moduleflags': array([0], dtype=uint32), 'chunksizebytes': array([0], dtype=uint64), 'name': '018 18:18:13.4296', 'status': array([0], dtype=uint32), 'groupindex': array([0], dtype=uint32), 'color': array([0], dtype=uint32), 'activerow': array([0], dtype=uint32), 'triggernumber': array([18], dtype=uint64), 'gridrows': array([1], dtype=uint32), 'gridcols': array([6000], dtype=uint32), 'gridmode': array([2], dtype=uint32), 'gridoperation': array([1], dtype=uint32), 'griddirection': array([0], dtype=uint32), 'gridrepetitions': array([1], dtype=uint32), 'gridcoldelta': array([3.33333333e-05]), 'gridcoloffset': array([-0.001]), 'gridrowdelta': array([1.]), 'gridrowoffset': array([0.]), 'bandwidth': array([nan]), 'center': array([0.]), 'nenbw': array([nan])}, value=array([[-4.43115619e-05, -4.43113601e-05, -4.43111583e-05, ...,\n",
      "        -4.39003424e-05, -4.39007772e-05, -4.39011782e-05]],\n",
      "      shape=(1, 6000)), time=array([0.00000000e+00, 3.33333333e-05, 6.66666667e-05, ...,\n",
      "       1.99900000e-01, 1.99933333e-01, 1.99966667e-01], shape=(6000,)), frequency=None, shape=(1, 6000))]}\n",
      "{'/dev30577/demods/0/sample.x': [DAQResult(header={'systemtime': array([1751710693], dtype=uint64), 'createdtimestamp': array([23528400565], dtype=uint64), 'changedtimestamp': array([23528400565], dtype=uint64), 'flags': array([825], dtype=uint32), 'moduleflags': array([0], dtype=uint32), 'chunksizebytes': array([0], dtype=uint64), 'name': '019 18:18:13.6308', 'status': array([0], dtype=uint32), 'groupindex': array([0], dtype=uint32), 'color': array([0], dtype=uint32), 'activerow': array([0], dtype=uint32), 'triggernumber': array([19], dtype=uint64), 'gridrows': array([1], dtype=uint32), 'gridcols': array([6000], dtype=uint32), 'gridmode': array([2], dtype=uint32), 'gridoperation': array([1], dtype=uint32), 'griddirection': array([0], dtype=uint32), 'gridrepetitions': array([1], dtype=uint32), 'gridcoldelta': array([3.33333333e-05]), 'gridcoloffset': array([-0.001]), 'gridrowdelta': array([1.]), 'gridrowoffset': array([0.]), 'bandwidth': array([nan]), 'center': array([0.]), 'nenbw': array([nan])}, value=array([[0.00143849, 0.00143849, 0.00143849, ..., 0.00143883, 0.00143883,\n",
      "        0.00143884]], shape=(1, 6000)), time=array([0.00000000e+00, 3.33333333e-05, 6.66666667e-05, ...,\n",
      "       1.99900000e-01, 1.99933333e-01, 1.99966667e-01], shape=(6000,)), frequency=None, shape=(1, 6000))], '/dev30577/demods/0/sample.y': [DAQResult(header={'systemtime': array([1751710693], dtype=uint64), 'createdtimestamp': array([23528400565], dtype=uint64), 'changedtimestamp': array([23528400565], dtype=uint64), 'flags': array([825], dtype=uint32), 'moduleflags': array([0], dtype=uint32), 'chunksizebytes': array([0], dtype=uint64), 'name': '019 18:18:13.6308', 'status': array([0], dtype=uint32), 'groupindex': array([0], dtype=uint32), 'color': array([0], dtype=uint32), 'activerow': array([0], dtype=uint32), 'triggernumber': array([19], dtype=uint64), 'gridrows': array([1], dtype=uint32), 'gridcols': array([6000], dtype=uint32), 'gridmode': array([2], dtype=uint32), 'gridoperation': array([1], dtype=uint32), 'griddirection': array([0], dtype=uint32), 'gridrepetitions': array([1], dtype=uint32), 'gridcoldelta': array([3.33333333e-05]), 'gridcoloffset': array([-0.001]), 'gridrowdelta': array([1.]), 'gridrowoffset': array([0.]), 'bandwidth': array([nan]), 'center': array([0.]), 'nenbw': array([nan])}, value=array([[-4.39028623e-05, -4.39032633e-05, -4.39036642e-05, ...,\n",
      "        -4.41731449e-05, -4.41731859e-05, -4.41731901e-05]],\n",
      "      shape=(1, 6000)), time=array([0.00000000e+00, 3.33333333e-05, 6.66666667e-05, ...,\n",
      "       1.99900000e-01, 1.99933333e-01, 1.99966667e-01], shape=(6000,)), frequency=None, shape=(1, 6000))]}\n",
      "{'/dev30577/demods/0/sample.x': [DAQResult(header={'systemtime': array([1751710693], dtype=uint64), 'createdtimestamp': array([23540406965], dtype=uint64), 'changedtimestamp': array([23540406965], dtype=uint64), 'flags': array([825], dtype=uint32), 'moduleflags': array([0], dtype=uint32), 'chunksizebytes': array([0], dtype=uint64), 'name': '020 18:18:13.8327', 'status': array([0], dtype=uint32), 'groupindex': array([0], dtype=uint32), 'color': array([0], dtype=uint32), 'activerow': array([0], dtype=uint32), 'triggernumber': array([20], dtype=uint64), 'gridrows': array([1], dtype=uint32), 'gridcols': array([6000], dtype=uint32), 'gridmode': array([2], dtype=uint32), 'gridoperation': array([1], dtype=uint32), 'griddirection': array([0], dtype=uint32), 'gridrepetitions': array([1], dtype=uint32), 'gridcoldelta': array([3.33333333e-05]), 'gridcoloffset': array([-0.001]), 'gridrowdelta': array([1.]), 'gridrowoffset': array([0.]), 'bandwidth': array([nan]), 'center': array([0.]), 'nenbw': array([nan])}, value=array([[0.00143884, 0.00143884, 0.00143885, ..., 0.00143847, 0.00143847,\n",
      "        0.00143847]], shape=(1, 6000)), time=array([0.00000000e+00, 3.33333333e-05, 6.66666667e-05, ...,\n",
      "       1.99900000e-01, 1.99933333e-01, 1.99966667e-01], shape=(6000,)), frequency=None, shape=(1, 6000))], '/dev30577/demods/0/sample.y': [DAQResult(header={'systemtime': array([1751710693], dtype=uint64), 'createdtimestamp': array([23540406965], dtype=uint64), 'changedtimestamp': array([23540406965], dtype=uint64), 'flags': array([825], dtype=uint32), 'moduleflags': array([0], dtype=uint32), 'chunksizebytes': array([0], dtype=uint64), 'name': '020 18:18:13.8327', 'status': array([0], dtype=uint32), 'groupindex': array([0], dtype=uint32), 'color': array([0], dtype=uint32), 'activerow': array([0], dtype=uint32), 'triggernumber': array([20], dtype=uint64), 'gridrows': array([1], dtype=uint32), 'gridcols': array([6000], dtype=uint32), 'gridmode': array([2], dtype=uint32), 'gridoperation': array([1], dtype=uint32), 'griddirection': array([0], dtype=uint32), 'gridrepetitions': array([1], dtype=uint32), 'gridcoldelta': array([3.33333333e-05]), 'gridcoloffset': array([-0.001]), 'gridrowdelta': array([1.]), 'gridrowoffset': array([0.]), 'bandwidth': array([nan]), 'center': array([0.]), 'nenbw': array([nan])}, value=array([[-4.41732078e-05, -4.41732121e-05, -4.41732163e-05, ...,\n",
      "        -4.37072431e-05, -4.37085760e-05, -4.37098862e-05]],\n",
      "      shape=(1, 6000)), time=array([0.00000000e+00, 3.33333333e-05, 6.66666667e-05, ...,\n",
      "       1.99900000e-01, 1.99933333e-01, 1.99966667e-01], shape=(6000,)), frequency=None, shape=(1, 6000))]}\n",
      "{'/dev30577/demods/0/sample.x': [DAQResult(header={'systemtime': array([1751710694], dtype=uint64), 'createdtimestamp': array([23552413365], dtype=uint64), 'changedtimestamp': array([23552413365], dtype=uint64), 'flags': array([825], dtype=uint32), 'moduleflags': array([0], dtype=uint32), 'chunksizebytes': array([0], dtype=uint64), 'name': '021 18:18:14.0368', 'status': array([0], dtype=uint32), 'groupindex': array([0], dtype=uint32), 'color': array([0], dtype=uint32), 'activerow': array([0], dtype=uint32), 'triggernumber': array([21], dtype=uint64), 'gridrows': array([1], dtype=uint32), 'gridcols': array([6000], dtype=uint32), 'gridmode': array([2], dtype=uint32), 'gridoperation': array([1], dtype=uint32), 'griddirection': array([0], dtype=uint32), 'gridrepetitions': array([1], dtype=uint32), 'gridcoldelta': array([3.33333333e-05]), 'gridcoloffset': array([-0.001]), 'gridrowdelta': array([1.]), 'gridrowoffset': array([0.]), 'bandwidth': array([nan]), 'center': array([0.]), 'nenbw': array([nan])}, value=array([[0.00143848, 0.00143848, 0.00143848, ..., 0.00143826, 0.00143827,\n",
      "        0.00143827]], shape=(1, 6000)), time=array([0.00000000e+00, 3.33333333e-05, 6.66666667e-05, ...,\n",
      "       1.99900000e-01, 1.99933333e-01, 1.99966667e-01], shape=(6000,)), frequency=None, shape=(1, 6000))], '/dev30577/demods/0/sample.y': [DAQResult(header={'systemtime': array([1751710694], dtype=uint64), 'createdtimestamp': array([23552413365], dtype=uint64), 'changedtimestamp': array([23552413365], dtype=uint64), 'flags': array([825], dtype=uint32), 'moduleflags': array([0], dtype=uint32), 'chunksizebytes': array([0], dtype=uint64), 'name': '021 18:18:14.0368', 'status': array([0], dtype=uint32), 'groupindex': array([0], dtype=uint32), 'color': array([0], dtype=uint32), 'activerow': array([0], dtype=uint32), 'triggernumber': array([21], dtype=uint64), 'gridrows': array([1], dtype=uint32), 'gridcols': array([6000], dtype=uint32), 'gridmode': array([2], dtype=uint32), 'gridoperation': array([1], dtype=uint32), 'griddirection': array([0], dtype=uint32), 'gridrepetitions': array([1], dtype=uint32), 'gridcoldelta': array([3.33333333e-05]), 'gridcoloffset': array([-0.001]), 'gridrowdelta': array([1.]), 'gridrowoffset': array([0.]), 'bandwidth': array([nan]), 'center': array([0.]), 'nenbw': array([nan])}, value=array([[-4.37153891e-05, -4.37166994e-05, -4.37180096e-05, ...,\n",
      "        -4.41117375e-05, -4.41132061e-05, -4.41146388e-05]],\n",
      "      shape=(1, 6000)), time=array([0.00000000e+00, 3.33333333e-05, 6.66666667e-05, ...,\n",
      "       1.99900000e-01, 1.99933333e-01, 1.99966667e-01], shape=(6000,)), frequency=None, shape=(1, 6000))]}\n",
      "{'/dev30577/demods/0/sample.x': [DAQResult(header={'systemtime': array([1751710694], dtype=uint64), 'createdtimestamp': array([23564419765], dtype=uint64), 'changedtimestamp': array([23564419765], dtype=uint64), 'flags': array([825], dtype=uint32), 'moduleflags': array([0], dtype=uint32), 'chunksizebytes': array([0], dtype=uint64), 'name': '022 18:18:14.2393', 'status': array([0], dtype=uint32), 'groupindex': array([0], dtype=uint32), 'color': array([0], dtype=uint32), 'activerow': array([0], dtype=uint32), 'triggernumber': array([22], dtype=uint64), 'gridrows': array([1], dtype=uint32), 'gridcols': array([6000], dtype=uint32), 'gridmode': array([2], dtype=uint32), 'gridoperation': array([1], dtype=uint32), 'griddirection': array([0], dtype=uint32), 'gridrepetitions': array([1], dtype=uint32), 'gridcoldelta': array([3.33333333e-05]), 'gridcoloffset': array([-0.001]), 'gridrowdelta': array([1.]), 'gridrowoffset': array([0.]), 'bandwidth': array([nan]), 'center': array([0.]), 'nenbw': array([nan])}, value=array([[0.00143827, 0.00143827, 0.00143827, ..., 0.00143884, 0.00143884,\n",
      "        0.00143884]], shape=(1, 6000)), time=array([0.00000000e+00, 3.33333333e-05, 6.66666667e-05, ...,\n",
      "       1.99900000e-01, 1.99933333e-01, 1.99966667e-01], shape=(6000,)), frequency=None, shape=(1, 6000))], '/dev30577/demods/0/sample.y': [DAQResult(header={'systemtime': array([1751710694], dtype=uint64), 'createdtimestamp': array([23564419765], dtype=uint64), 'changedtimestamp': array([23564419765], dtype=uint64), 'flags': array([825], dtype=uint32), 'moduleflags': array([0], dtype=uint32), 'chunksizebytes': array([0], dtype=uint64), 'name': '022 18:18:14.2393', 'status': array([0], dtype=uint32), 'groupindex': array([0], dtype=uint32), 'color': array([0], dtype=uint32), 'activerow': array([0], dtype=uint32), 'triggernumber': array([22], dtype=uint64), 'gridrows': array([1], dtype=uint32), 'gridcols': array([6000], dtype=uint32), 'gridmode': array([2], dtype=uint32), 'gridoperation': array([1], dtype=uint32), 'griddirection': array([0], dtype=uint32), 'gridrepetitions': array([1], dtype=uint32), 'gridcoldelta': array([3.33333333e-05]), 'gridcoloffset': array([-0.001]), 'gridrowdelta': array([1.]), 'gridrowoffset': array([0.]), 'bandwidth': array([nan]), 'center': array([0.]), 'nenbw': array([nan])}, value=array([[-4.41206558e-05, -4.41220884e-05, -4.41235211e-05, ...,\n",
      "        -4.38750216e-05, -4.38763771e-05, -4.38777195e-05]],\n",
      "      shape=(1, 6000)), time=array([0.00000000e+00, 3.33333333e-05, 6.66666667e-05, ...,\n",
      "       1.99900000e-01, 1.99933333e-01, 1.99966667e-01], shape=(6000,)), frequency=None, shape=(1, 6000))]}\n",
      "{'/dev30577/demods/0/sample.x': [DAQResult(header={'systemtime': array([1751710694], dtype=uint64), 'createdtimestamp': array([23576426165], dtype=uint64), 'changedtimestamp': array([23576426165], dtype=uint64), 'flags': array([825], dtype=uint32), 'moduleflags': array([0], dtype=uint32), 'chunksizebytes': array([0], dtype=uint64), 'name': '023 18:18:14.4424', 'status': array([0], dtype=uint32), 'groupindex': array([0], dtype=uint32), 'color': array([0], dtype=uint32), 'activerow': array([0], dtype=uint32), 'triggernumber': array([23], dtype=uint64), 'gridrows': array([1], dtype=uint32), 'gridcols': array([6000], dtype=uint32), 'gridmode': array([2], dtype=uint32), 'gridoperation': array([1], dtype=uint32), 'griddirection': array([0], dtype=uint32), 'gridrepetitions': array([1], dtype=uint32), 'gridcoldelta': array([3.33333333e-05]), 'gridcoloffset': array([-0.001]), 'gridrowdelta': array([1.]), 'gridrowoffset': array([0.]), 'bandwidth': array([nan]), 'center': array([0.]), 'nenbw': array([nan])}, value=array([[0.00143884, 0.00143884, 0.00143884, ..., 0.00143857, 0.00143857,\n",
      "        0.00143857]], shape=(1, 6000)), time=array([0.00000000e+00, 3.33333333e-05, 6.66666667e-05, ...,\n",
      "       1.99900000e-01, 1.99933333e-01, 1.99966667e-01], shape=(6000,)), frequency=None, shape=(1, 6000))], '/dev30577/demods/0/sample.y': [DAQResult(header={'systemtime': array([1751710694], dtype=uint64), 'createdtimestamp': array([23576426165], dtype=uint64), 'changedtimestamp': array([23576426165], dtype=uint64), 'flags': array([825], dtype=uint32), 'moduleflags': array([0], dtype=uint32), 'chunksizebytes': array([0], dtype=uint64), 'name': '023 18:18:14.4424', 'status': array([0], dtype=uint32), 'groupindex': array([0], dtype=uint32), 'color': array([0], dtype=uint32), 'activerow': array([0], dtype=uint32), 'triggernumber': array([23], dtype=uint64), 'gridrows': array([1], dtype=uint32), 'gridcols': array([6000], dtype=uint32), 'gridmode': array([2], dtype=uint32), 'gridoperation': array([1], dtype=uint32), 'griddirection': array([0], dtype=uint32), 'gridrepetitions': array([1], dtype=uint32), 'gridcoldelta': array([3.33333333e-05]), 'gridcoloffset': array([-0.001]), 'gridrowdelta': array([1.]), 'gridrowoffset': array([0.]), 'bandwidth': array([nan]), 'center': array([0.]), 'nenbw': array([nan])}, value=array([[-4.38833575e-05, -4.38846998e-05, -4.38860422e-05, ...,\n",
      "        -4.39647079e-05, -4.39659952e-05, -4.39672811e-05]],\n",
      "      shape=(1, 6000)), time=array([0.00000000e+00, 3.33333333e-05, 6.66666667e-05, ...,\n",
      "       1.99900000e-01, 1.99933333e-01, 1.99966667e-01], shape=(6000,)), frequency=None, shape=(1, 6000))]}\n"
     ]
    },
    {
     "data": {
      "image/png": "[encoded data removed]",
      "text/plain": [
       "<Figure size 640x480 with 1 Axes>"
      ]
     },
     "metadata": {},
     "output_type": "display_data"
    }
   ],
   "source": [
    "import time\n",
    "do_plot = True\n",
    "\n",
    "clockbase = device.clockbase()\n",
    "if do_plot:\n",
    "    timestamp0 = None\n",
    "    max_value = None\n",
    "    min_value = None\n",
    "    fig, axis = plt.subplots()\n",
    "    axis.set_xlabel(\"Time ($s$)\")\n",
    "    axis.set_ylabel(\"Subscribed signals\")\n",
    "    axis.set_xlim([0, total_duration])\n",
    "    lines = [axis.plot([], [], label=path)[0] for path in signal_paths]\n",
    "    axis.legend()\n",
    "    axis.set_title(\"Continuous Data Acquisition\")\n",
    "    plt.ion()\n",
    "\n",
    "\n",
    "def process_data(raw_data):\n",
    "    global timestamp0, lines, max_value, min_value\n",
    "    for i, signal_path in enumerate(signal_paths):\n",
    "        # Loop over all the bursts for the subscribed signal. More than\n",
    "        # one burst may be returned at a time, in particular if we call\n",
    "        # read() less frequently than the burst_duration.\n",
    "        for signal_burst in raw_data.get(signal_path.lower(), []):\n",
    "            # Convert from device ticks to time in seconds.\n",
    "            # value = signal_burst[\"value\"][0, :]\n",
    "            value = signal_burst[1][0]\n",
    "            data[signal_path].append(value)\n",
    "            if do_plot:\n",
    "                max_value = max(max_value, max(value)) if max_value else max(value)\n",
    "                min_value = min(min_value, min(value)) if min_value else min(value)\n",
    "                #axis.set_ylim(1.3e-3, 1.5e-3)\n",
    "                timestamp0 = (\n",
    "                    timestamp0 if timestamp0 else signal_burst[0]['createdtimestamp']\n",
    "                )\n",
    "                t = (signal_burst[0]['changedtimestamp'] - timestamp0) / clockbase\n",
    "                lines[i].set_data(\n",
    "                    np.concatenate((lines[i].get_xdata(), signal_burst[2]), axis=0),\n",
    "                    np.concatenate((lines[i].get_ydata(), value), axis=0),\n",
    "                )\n",
    "    if do_plot:\n",
    "        fig.canvas.draw()\n",
    "\n",
    "# Start recording data.\n",
    "daq.execute()\n",
    "# Record data in a loop with timeout.\n",
    "timeout = 3 * total_duration\n",
    "start = time.time()\n",
    "\n",
    "while not daq.finished():\n",
    "    t0_loop = time.time()\n",
    "    if time.time() - start > timeout:\n",
    "        raise Exception(\n",
    "            f\"Timeout after {timeout} s - recording not complete.\"\n",
    "            \"Are the streaming nodes enabled?\"\n",
    "            \"Has a valid signal_path been specified?\"\n",
    "        )\n",
    "    raw_data = daq.read()\n",
    "    print(raw_data)\n",
    "    process_data(raw_data)\n",
    "    \n",
    "    time.sleep(max(0, burst_duration - (time.time() - t0_loop)))\n",
    "# There may be new data between the last read() and calling finished().\n",
    "raw_data = daq.read()\n",
    "process_data(raw_data)"
   ]
  },
  {
   "cell_type": "markdown",
   "id": "74a1507a",
   "metadata": {},
   "source": [
    "## trigger "
   ]
  },
  {
   "cell_type": "markdown",
   "id": "e3c714cc",
   "metadata": {},
   "source": []
  }
 ],
 "metadata": {
  "kernelspec": {
   "display_name": "kao_lab",
   "language": "python",
   "name": "python3"
  },
  "language_info": {
   "codemirror_mode": {
    "name": "ipython",
    "version": 3
   },
   "file_extension": ".py",
   "mimetype": "text/x-python",
   "name": "python",
   "nbconvert_exporter": "python",
   "pygments_lexer": "ipython3",
   "version": "3.10.18"
  }
 },
 "nbformat": 4,
 "nbformat_minor": 5
}
